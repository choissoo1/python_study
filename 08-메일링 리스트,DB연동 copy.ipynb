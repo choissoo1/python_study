{
 "cells": [
  {
   "cell_type": "markdown",
   "id": "8cc8cae6",
   "metadata": {},
   "source": [
    "# [LAB-08] 메일링 리스트/ DB 연동1"
   ]
  },
  {
   "cell_type": "markdown",
   "id": "7289842d",
   "metadata": {},
   "source": [
    "## #2. 메일링 리스트 구현\n"
   ]
  },
  {
   "cell_type": "markdown",
   "id": "94e4813b",
   "metadata": {},
   "source": [
    "### 메일 발송 모듈 제작"
   ]
  },
  {
   "cell_type": "markdown",
   "id": "bbbe10c8",
   "metadata": {},
   "source": [
    "### 메일 발송 준비"
   ]
  },
  {
   "cell_type": "code",
   "execution_count": 2,
   "id": "d174cbf3",
   "metadata": {},
   "outputs": [
    {
     "name": "stdout",
     "output_type": "stream",
     "text": [
      "2025 10 29\n",
      "안녕하세요 {name}님\n",
      "\n",
      "{yy}년도 {mm}월 급여명세서와 결산보고서 보내드립니다.\n",
      "\n",
      "귀하의 노고에 감사드립니다.\n",
      "\n",
      "- {yy}년 {mm}월 {dd}일 / 운영지원팀 드림\n",
      "document.pptx (이)가 첨부되었습니다.\n",
      "pay1.xlsx (이)가 첨부되었습니다.\n",
      "document.pptx (이)가 첨부되었습니다.\n",
      "pay2.xlsx (이)가 첨부되었습니다.\n",
      "document.pptx (이)가 첨부되었습니다.\n",
      "pay3.xlsx (이)가 첨부되었습니다.\n",
      "document.pptx (이)가 첨부되었습니다.\n",
      "pay4.xlsx (이)가 첨부되었습니다.\n",
      "document.pptx (이)가 첨부되었습니다.\n",
      "pay5.xlsx (이)가 첨부되었습니다.\n"
     ]
    }
   ],
   "source": [
    "from mylibrary import MyMailer\n",
    "import datetime as dt\n",
    "\n",
    "today = dt.datetime.now\n",
    "\n",
    "today = dt.datetime.now()\n",
    "year = today.year\n",
    "month = today.month\n",
    "day = today.day\n",
    "print(year, month, day)\n",
    "# -----------------------------------------------------\n",
    "\n",
    "from_addr = \"운영지원팀<ssoo.alter@gmail.com>\"\n",
    "subjectTmpl = \"{name}님의 {yy}년 {mm}월 급여명세서 입니다.\"\n",
    "\n",
    "with open('mail/content.txt', 'r', encoding='utf-8') as f:\n",
    "    contentTmpl = f.read()\n",
    "    print(contentTmpl)\n",
    "\n",
    "# ---------------------------------------------------------\n",
    "with open('mail/mail_list.csv', 'r', encoding='euc-kr', newline='') as f:\n",
    "    csv = f.readlines()\n",
    "    for line in csv:\n",
    "        name, email, file1, file2 = line.strip().split(\",\")\n",
    "        #print(name, email, file1, file2)\n",
    "        \n",
    "        to_addr = \"{name} <{email}>\" .format(name=name, email=email)\n",
    "        #print(to_addr)\n",
    "\n",
    "        subject = subjectTmpl.format(name=name, yy=year, mm=month)\n",
    "        #print(subject)\n",
    "\n",
    "        content = contentTmpl.format(name=name, yy=year, mm=month, dd=day)\n",
    "        #print(content)\n",
    "        \n",
    "        MyMailer.sendMail(from_addr,to_addr, subject,content, [file1, file2])\n"
   ]
  },
  {
   "cell_type": "markdown",
   "id": "55423e71",
   "metadata": {},
   "source": [
    "## #3. 비동기 처리"
   ]
  },
  {
   "cell_type": "markdown",
   "id": "2bed1b33",
   "metadata": {},
   "source": [
    "### 필요한 패키지 참조"
   ]
  },
  {
   "cell_type": "code",
   "execution_count": null,
   "id": "9052c98b",
   "metadata": {},
   "outputs": [],
   "source": [
    "# 프로그램에 딜레이를 적용하는 기능을 제공하는 모듈\n",
    "import time\n",
    "# 날짜 처리 모듈\n",
    "import datetime as dt\n",
    "#앞 단원에서 구현한 메일 발송 모듈\n",
    "from mylibrary import MyMailer\n",
    "#비동기 처리 기능을 제공하는 모듈\n",
    "import concurrent.futures as futures"
   ]
  },
  {
   "cell_type": "markdown",
   "id": "8f069a5b",
   "metadata": {},
   "source": [
    "### 동기식 메일 발송"
   ]
  },
  {
   "cell_type": "code",
   "execution_count": 1,
   "id": "56cd62b3",
   "metadata": {},
   "outputs": [
    {
     "name": "stdout",
     "output_type": "stream",
     "text": [
      "document.pptx (이)가 첨부되었습니다.\n",
      "document.pptx (이)가 첨부되었습니다.\n",
      "document.pptx (이)가 첨부되었습니다.\n",
      "document.pptx (이)가 첨부되었습니다.\n",
      "document.pptx (이)가 첨부되었습니다.\n",
      "pay4.xlsx (이)가 첨부되었습니다.\n",
      "pay3.xlsx (이)가 첨부되었습니다.\n",
      "pay2.xlsx (이)가 첨부되었습니다.\n",
      "pay1.xlsx (이)가 첨부되었습니다.\n",
      "pay5.xlsx (이)가 첨부되었습니다.\n",
      "작업에 소요된 시간은 총 6초 입니다,\n"
     ]
    }
   ],
   "source": [
    "import time\n",
    "import datetime as dt\n",
    "from mylibrary import MyMailer\n",
    "import concurrent.futures as futures\n",
    "\n",
    "today = dt.datetime.now()\n",
    "year = today.year\n",
    "month = today.month\n",
    "day = today.day\n",
    "\n",
    "from_addr = \"운영지원팀<ssoo.alter@gmail.com>\"\n",
    "subjectTmpl = \"{name}님의 {yy}년 {mm}월 급여명세서 입니다.\"\n",
    "\n",
    "with open('mail/content.txt', 'r', encoding='utf-8') as f:\n",
    "    contentTmpl = f.read()\n",
    "\n",
    "startTime = dt.datetime.now()\n",
    "\n",
    "with open('mail/mail_list.csv', 'r', encoding='euc-kr', newline='') as f:\n",
    "    csv = f.readlines()\n",
    "\n",
    "    with futures.ThreadPoolExecutor(max_workers=10) as executor:\n",
    "        for line in csv:\n",
    "            name, email, file1, file2 = line.strip().split(\",\")\n",
    "            to_addr = \"{name} <{email}> \" .format(name=name, email=email)\n",
    "            subject = subjectTmpl.format(name=name, yy=year, mm=month)\n",
    "            content = contentTmpl.format(name=name, yy=year, mm=month, dd=day)\n",
    "        \n",
    "            executor.submit(MyMailer.sendMail, from_addr,to_addr, subject,content, [file1, file2])\n",
    "endTime = dt.datetime.now()\n",
    "workTime = endTime - startTime\n",
    "print(\"작업에 소요된 시간은 총 %s초 입니다,\" % workTime.seconds)\n"
   ]
  },
  {
   "cell_type": "markdown",
   "id": "a93f57f0",
   "metadata": {},
   "source": [
    "## #4. 비동기 리턴/예외처리"
   ]
  },
  {
   "cell_type": "markdown",
   "id": "b339cd38",
   "metadata": {},
   "source": [
    "### 비동기로 호출되는 함수의 리턴값 받기"
   ]
  },
  {
   "cell_type": "code",
   "execution_count": null,
   "id": "9bb88e56",
   "metadata": {},
   "outputs": [],
   "source": [
    "import time\n",
    "import datetime as dt\n",
    "from mylibrary import MyMailer\n",
    "import concurrent.futures as futures  # 비동기 처리 기능ㅇ르 제공하는 모듈\n",
    "\n",
    "import random\n",
    "def randomwork(name):\n",
    "    randomSecond = random.randrange(1,9)\n",
    "    print(\"[%s]작업을 %d초 동안 수행합니다.\" %(name, randomSecond))\n",
    "    for i in range(0,randomSecond):\n",
    "        time.sleep(1)\n",
    "        print(\"[%s] %d초...\" %(name, i+1))\n",
    "    print(\"[%s] 작업이 종료되었습니다.\" %name)\n",
    "    return randomSecond    #몇 초 동안 작업을 했는지 리턴\n",
    "\n",
    "startTime = dt.datetime.now()\n",
    "names = ['Lee', 'Kim', 'Hong', 'Park', 'Nam']\n",
    "processes = []             #비동기 프로세스를 저장할 리스트\n",
    "resultSet = []             #비동기 작업의 결과를 저장할 빈 리스트\n",
    "\n",
    "with futures.ThreadPoolExecutor(max_workers=3) as executor:\n",
    "    for n in names:\n",
    "        pro = executor.submit(randomwork,n)\n",
    "        processes.append(pro)\n",
    "    for p in processes:             #생성도니 비동기 작업 수 만큼 반복\n",
    "        result = p.result()         #randomwork 함수의 리턴값을 받음\n",
    "        resultSet.append(result)        #전달받은 리턴값을 resultSet에 추가\n",
    "# randomWork 함수가 리턴한 모든 값을 합산\n",
    "print(\"비동기 처리가 총 %d초의 작업을 수행하였습니다.\" %sum(resultSet))\n",
    "\n",
    "# 프로그램 실행 시간을 구함\n",
    "endTime = dt.datetime.now()\n",
    "workTime = endTime - startTime\n",
    "print(\"작업에 소요된 시간은 총 %s초입니다.\" %workTime.seconds)"
   ]
  },
  {
   "cell_type": "markdown",
   "id": "455ec431",
   "metadata": {},
   "source": [
    "### 비동기의 예외처리"
   ]
  },
  {
   "cell_type": "code",
   "execution_count": null,
   "id": "5e8ecacc",
   "metadata": {},
   "outputs": [],
   "source": [
    "import time\n",
    "import datetime as dt\n",
    "from mylibrary import MyMailer\n",
    "import concurrent.futures as futures\n",
    "\n",
    "import random\n",
    "seasons = ['봄', '여름', '가을', '겨울']\n",
    "def seasonWork(name):\n",
    "    randomSecond = random.randrange(1,9)\n",
    "    print(\"[%s] 작업을 %d초 동안 수행합니다.\"%(name, randomSecond))\n",
    "    for i in range(0,randomSecond):\n",
    "        time.sleep(1)\n",
    "        # randomSecond가 4이상이면 i가 리스트의 인덱스를 초과하는 순간 에러 발생\n",
    "        print(\"[%s] 지금은 <%s>입니다,\" %(name, seasons[i]))\n",
    "    print(\"[%s] 작업이 종료되었습니다.\" %name)\n",
    "    # 파라미터로 전달된 name과 몇 초 동안 작업을 했는지르 리스트로 리턴\n",
    "    return [name, randomSecond]\n",
    "\n",
    "startTime = dt.datetime.now()\n",
    "\n",
    "names = ['Lee', 'Kim', 'Hong', 'Park', 'Nam']\n",
    "processes = []\n",
    "nameSet = []\n",
    "timeSet = []\n",
    "\n",
    "with futures.ThreadPoolExecutor(max_workers=len(names)) as executor:\n",
    "    for n in names:\n",
    "        pro = executor.submit(seasonWork,n)\n",
    "        processes.append(pro)\n",
    "    for p in processes:\n",
    "        try:\n",
    "            name, n = p.result()\n",
    "            nameSet.append(name)\n",
    "            timeSet.append(n)\n",
    "            print(\"%s의 작업이 완료되었습니다.\" %name)\n",
    "        except Exception as e:\n",
    "            print(e)\n",
    "\n",
    "endTime = dt.datetime.now()\n",
    "workTime = endTime -startTime\n",
    "print(\"작업에 소요된 시간은 총 %s초 입니다.\" % workTime.seconds)"
   ]
  }
 ],
 "metadata": {
  "kernelspec": {
   "display_name": "Python 3",
   "language": "python",
   "name": "python3"
  },
  "language_info": {
   "codemirror_mode": {
    "name": "ipython",
    "version": 3
   },
   "file_extension": ".py",
   "mimetype": "text/x-python",
   "name": "python",
   "nbconvert_exporter": "python",
   "pygments_lexer": "ipython3",
   "version": "3.13.9"
  }
 },
 "nbformat": 4,
 "nbformat_minor": 5
}
