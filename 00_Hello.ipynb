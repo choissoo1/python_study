{
 "cells": [
  {
   "cell_type": "code",
   "execution_count": null,
   "id": "e897dc8b",
   "metadata": {},
   "outputs": [],
   "source": [
    "# lab01 -파이썬 시작하기, 변수와 ㅇ"
   ]
  },
  {
   "cell_type": "code",
   "execution_count": null,
   "id": "bd115dec",
   "metadata": {},
   "outputs": [],
   "source": [
    "print(\"Hello World\")"
   ]
  },
  {
   "cell_type": "code",
   "execution_count": null,
   "id": "f77dfe78",
   "metadata": {},
   "outputs": [],
   "source": [
    "a=100\n",
    "b=200\n",
    "print(a+b)"
   ]
  }
 ],
 "metadata": {
  "kernelspec": {
   "display_name": "Python 3",
   "language": "python",
   "name": "python3"
  },
  "language_info": {
   "name": "python",
   "version": "3.13.9"
  }
 },
 "nbformat": 4,
 "nbformat_minor": 5
}
