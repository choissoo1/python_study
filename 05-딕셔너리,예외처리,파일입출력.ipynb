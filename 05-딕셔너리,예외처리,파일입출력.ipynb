{
 "cells": [
  {
   "cell_type": "markdown",
   "id": "8c135e05",
   "metadata": {},
   "source": [
    "# [ LAB-05 ] 딕셔너리 / 예외처리 / 파일 입출력"
   ]
  },
  {
   "cell_type": "markdown",
   "id": "acdf9da6",
   "metadata": {},
   "source": [
    "## #1. 딕셔너리의 이해\n"
   ]
  },
  {
   "cell_type": "markdown",
   "id": "12062549",
   "metadata": {},
   "source": [
    "### 딕셔너리 기본 형식"
   ]
  },
  {
   "cell_type": "code",
   "execution_count": 5,
   "id": "a9c76bab",
   "metadata": {},
   "outputs": [
    {
     "name": "stdout",
     "output_type": "stream",
     "text": [
      "{'name': ' 철수', 'phone': '010-1234-5678', 'birth': '0115'}\n",
      " 철수\n",
      "010-1234-5678\n",
      "{'name': '호영', 'phone': '010-1234-5678', 'birth': '0115'}\n"
     ]
    }
   ],
   "source": [
    "# 딕셔너리 정의하기\n",
    "mydic = {\"name\":\" 철수\",\"phone\":\"010-1234-5678\",\"birth\":\"0115\"}\n",
    "print(mydic)\n",
    "\n",
    "#특정 원소에 접근하기 -> 직접 출력\n",
    "print(mydic[\"name\"])\n",
    "\n",
    "# 특정 원소에 접근 -> 다른 변수에 복사\n",
    "phone = mydic[\"phone\"]\n",
    "print(phone)\n",
    "\n",
    "# 특정 원소의 값을 변경\n",
    "mydic[\"name\"] = \"호영\"\n",
    "print(mydic)"
   ]
  },
  {
   "cell_type": "markdown",
   "id": "65e62156",
   "metadata": {},
   "source": [
    "### 딕셔너리의 확장과 key 중복 제한"
   ]
  },
  {
   "cell_type": "code",
   "execution_count": 7,
   "id": "413ddab4",
   "metadata": {},
   "outputs": [
    {
     "name": "stdout",
     "output_type": "stream",
     "text": [
      "{'a': 100, 'b': 200, 'c': 300}\n",
      "Python\n"
     ]
    },
    {
     "data": {
      "text/plain": [
       "{'msg': 'Python'}"
      ]
     },
     "execution_count": 7,
     "metadata": {},
     "output_type": "execute_result"
    }
   ],
   "source": [
    "# 딕셔너리의 확장\n",
    "\n",
    "# 존재하지 않는 키에 값을 할당하면 확장\n",
    "foo = {\"a\":100, \"b\":200}\n",
    "foo[\"c\"] = 300\n",
    "print(foo)\n",
    "\n",
    "#key 중복 제한\n",
    "#키가 중복될 경우 하나를 제외한 나머지는 무시됨\n",
    "# -> 일반적으로 나중에 정의된 항목이 이전에 정의된 항목을 덮어 슴\n",
    "data = {\"msg\": \" Hello\", \"msg\": \"world\", \"msg\":\"Python\"}\n",
    "print(data[\"msg\"])\n",
    "data"
   ]
  },
  {
   "cell_type": "markdown",
   "id": "080e8b4a",
   "metadata": {},
   "source": [
    "\n",
    "### 딕셔너리를 원소로 갖는 딕셔너리"
   ]
  },
  {
   "cell_type": "code",
   "execution_count": 10,
   "id": "412d5868",
   "metadata": {},
   "outputs": [],
   "source": [
    "phone = {\n",
    "    \"apple\" : {\n",
    "        \"name\" : \"phone\",\n",
    "        \"price\" : \"200$\"\n",
    "    },\n",
    "    \"samsung\" : {\n",
    "        \"name\" : \"Galluxy\",\n",
    "        \"price\" : \"200만원\"\n",
    "    }\n",
    "}"
   ]
  },
  {
   "cell_type": "code",
   "execution_count": 12,
   "id": "43f345d1",
   "metadata": {},
   "outputs": [
    {
     "name": "stdout",
     "output_type": "stream",
     "text": [
      "phone의 가격은 200$입니다.\n",
      "Galluxy의 가격은 200만원입니다.\n"
     ]
    }
   ],
   "source": [
    "tpl = \"%s의 가격은 %s입니다.\"\n",
    "print(tpl %(phone['apple']['name'], phone['apple']['price']))\n",
    "print(tpl %(phone['samsung']['name'], phone['samsung']['price']))"
   ]
  },
  {
   "cell_type": "markdown",
   "id": "313c8b88",
   "metadata": {},
   "source": [
    "### '딕셔너리를 원소로 갖는 리스트'를 원소로 포함하는 딕셔너리"
   ]
  },
  {
   "cell_type": "code",
   "execution_count": 15,
   "id": "83c6d3e3",
   "metadata": {},
   "outputs": [
    {
     "name": "stdout",
     "output_type": "stream",
     "text": [
      "email : user1@python.com, comment:Good~!!\n",
      "email : user2@python.com, comment:Nice~!!\n",
      "email : user3@python.com, comment:Not Bad\n"
     ]
    }
   ],
   "source": [
    "# 딕셔너리 기반 목록 구조를 표현하는 경우\n",
    "# - 딕셔너리를 원소로 포함하는 리스트가 상위 딕셔너리의 값이 됨\n",
    "# - 리스트의 원소로 포함되는 딕셔너리는 모두 같은 구조로 존재해야 목록형태가 성립\n",
    "\n",
    "review = {\n",
    "    \"items\" : [\n",
    "        {\"email\" : \"user1@python.com\", \"comment\":\"Good~!!\"},\n",
    "        {\"email\" : \"user2@python.com\", \"comment\":\"Nice~!!\"},\n",
    "        {\"email\" : \"user3@python.com\", \"comment\":\"Not Bad\"}\n",
    "    ]\n",
    "}\n",
    "#items가 배열이므로 반복문 사용 가능\n",
    "tpl = \"email : {0}, comment:{1}\"\n",
    "for item in review[\"items\"]:\n",
    "    print(tpl.format(item[\"email\"],item[\"comment\"]))"
   ]
  },
  {
   "cell_type": "code",
   "execution_count": 16,
   "id": "999ee235",
   "metadata": {},
   "outputs": [
    {
     "name": "stdout",
     "output_type": "stream",
     "text": [
      "파이썬 프로그래밍\n",
      "\n",
      "No.1 - 1일차: 프로그래밍 언어의 이해\n",
      "No.2 - 2일차: 변수와 연산자\n",
      "No.3 - 3일차: 함수의 이해\n",
      "No.4 - 4일차: 조건문과 반복문\n"
     ]
    }
   ],
   "source": [
    "lectures = {\n",
    "    \"title\": \"파이썬 프로그래밍\",\n",
    "    \"subject\": [\n",
    "        {\"no\": 1, \"date\": \"1일차\", \"title\": \"프로그래밍 언어의 이해\"},\n",
    "        {\"no\": 2, \"date\": \"2일차\", \"title\": \"변수와 연산자\"},\n",
    "        {\"no\": 3, \"date\": \"3일차\", \"title\": \"함수의 이해\"},\n",
    "        {\"no\": 4, \"date\": \"4일차\", \"title\": \"조건문과 반복문\"}\n",
    "    ]\n",
    "}\n",
    "\n",
    "# 제목 출력\n",
    "print(lectures[\"title\"])\n",
    "print()\n",
    "\n",
    "# 과목 목록 출력\n",
    "tpl = \"No.{0} - {1}: {2}\"\n",
    "for subject in lectures[\"subject\"]:\n",
    "    print(tpl.format(subject[\"no\"], subject[\"date\"], subject[\"title\"]))"
   ]
  }
 ],
 "metadata": {
  "kernelspec": {
   "display_name": "Python 3",
   "language": "python",
   "name": "python3"
  },
  "language_info": {
   "codemirror_mode": {
    "name": "ipython",
    "version": 3
   },
   "file_extension": ".py",
   "mimetype": "text/x-python",
   "name": "python",
   "nbconvert_exporter": "python",
   "pygments_lexer": "ipython3",
   "version": "3.13.9"
  }
 },
 "nbformat": 4,
 "nbformat_minor": 5
}
