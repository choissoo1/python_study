{
 "cells": [
  {
   "cell_type": "markdown",
   "id": "663b26ea",
   "metadata": {},
   "source": [
    "# LAB-02 함수의 이해 조건문과 반복문\n",
    "\n",
    "## #1.함수의 이해"
   ]
  },
  {
   "cell_type": "markdown",
   "id": "8a35c546",
   "metadata": {},
   "source": [
    "### type() 내장함수 사용"
   ]
  },
  {
   "cell_type": "code",
   "execution_count": 88,
   "id": "24e69b0b",
   "metadata": {},
   "outputs": [
    {
     "name": "stdout",
     "output_type": "stream",
     "text": [
      "<class 'int'>\n",
      "<class 'str'>\n",
      "<class 'float'>\n"
     ]
    }
   ],
   "source": [
    "#정수형 변수의 데이터 타입 확인\n",
    "age = 10\n",
    "type0fAge = type(age)\n",
    "print(type0fAge)          #int\n",
    "\n",
    "#문자열 변수의 데이터 타입 확인\n",
    "message = \"Hello Python\" \n",
    "type0fMessge = type(message)\n",
    "print(type0fMessge)             #str\n",
    "\n",
    "#실수형 변수의 데이터 타입 확인\n",
    "pi = 3.14\n",
    "type0fpi = type(pi)\n",
    "print(type0fpi)       #float"
   ]
  },
  {
   "cell_type": "code",
   "execution_count": 89,
   "id": "73bf7766",
   "metadata": {},
   "outputs": [
    {
     "name": "stdout",
     "output_type": "stream",
     "text": [
      "\n",
      "<class 'str'>\n"
     ]
    }
   ],
   "source": [
    "#사용자 입력값 받기\n",
    "msg1 = input(\"메시지를 입력하세요\")\n",
    "print(msg1)\n",
    "\n",
    "#입력받은 내용의 데이터 타입 확인 --> 문자열(str)\n",
    "t = type(msg1)\n",
    "print(t)"
   ]
  },
  {
   "cell_type": "code",
   "execution_count": 90,
   "id": "25585b6d",
   "metadata": {},
   "outputs": [
    {
     "name": "stdout",
     "output_type": "stream",
     "text": [
      "HelloPython\n",
      "m\n"
     ]
    }
   ],
   "source": [
    "#문자열 변수간의 연산은 덧셈만 가능, -> 문자열 연결\n",
    "s = \"Hello\" + \"Python\"\n",
    "print(s)\n",
    "\n",
    "#input()함수를 통해 입력받은 값은 문자열로 인식\n",
    "a = input(\" 첫 번째 금액을 입력하세요\")\n",
    "b = input(\" 두 번째 금액을 입력하세요\")\n",
    "print(a+b)"
   ]
  },
  {
   "cell_type": "markdown",
   "id": "e358d8c3",
   "metadata": {},
   "source": [
    "### 문자열의 정수, 실수 변환"
   ]
  },
  {
   "cell_type": "code",
   "execution_count": 91,
   "id": "3a19c090",
   "metadata": {},
   "outputs": [
    {
     "ename": "ValueError",
     "evalue": "invalid literal for int() with base 10: ''",
     "output_type": "error",
     "traceback": [
      "\u001b[31m---------------------------------------------------------------------------\u001b[39m",
      "\u001b[31mValueError\u001b[39m                                Traceback (most recent call last)",
      "\u001b[36mCell\u001b[39m\u001b[36m \u001b[39m\u001b[32mIn[91]\u001b[39m\u001b[32m, line 3\u001b[39m\n\u001b[32m      1\u001b[39m \u001b[38;5;66;03m# 입력받은 값을 정수 타입으로 변환\u001b[39;00m\n\u001b[32m      2\u001b[39m msg2 = \u001b[38;5;28minput\u001b[39m(\u001b[33m\"\u001b[39m\u001b[33m정수를 입력하세요\u001b[39m\u001b[33m\"\u001b[39m)\n\u001b[32m----> \u001b[39m\u001b[32m3\u001b[39m num = \u001b[38;5;28;43mint\u001b[39;49m\u001b[43m(\u001b[49m\u001b[43mmsg2\u001b[49m\u001b[43m)\u001b[49m\n\u001b[32m      4\u001b[39m \u001b[38;5;28mprint\u001b[39m(num)\n\u001b[32m      6\u001b[39m \u001b[38;5;66;03m#정수를 실수로 변환 --> 정수 뒤에 '0'이 추가\u001b[39;00m\n\u001b[32m      7\u001b[39m \n\u001b[32m      8\u001b[39m \u001b[38;5;66;03m#변환 결과의 데이터 타입 확인 --> 정수(int)\u001b[39;00m\n",
      "\u001b[31mValueError\u001b[39m: invalid literal for int() with base 10: ''"
     ]
    }
   ],
   "source": [
    "# 입력받은 값을 정수 타입으로 변환\n",
    "msg2 = input(\"정수를 입력하세요\")\n",
    "num = int(msg2)\n",
    "print(num)\n",
    "\n",
    "#정수를 실수로 변환 --> 정수 뒤에 '0'이 추가\n",
    "\n",
    "#변환 결과의 데이터 타입 확인 --> 정수(int)\n",
    "num_type =type(num)\n",
    "print(num_type)"
   ]
  },
  {
   "cell_type": "code",
   "execution_count": null,
   "id": "a9354870",
   "metadata": {},
   "outputs": [
    {
     "name": "stdout",
     "output_type": "stream",
     "text": [
      "123.34\n",
      "<class 'float'>\n"
     ]
    }
   ],
   "source": [
    "#입력받은 값을 실수 타입으로 변환\n",
    "msg3 = input(\"실수를 입력하세요\")\n",
    "flum = float(msg3)\n",
    "print(flum)\n",
    "\n",
    "#실수를 정수로 변환 --> 소수점 버림\n",
    "\n",
    "#변환 결과의 데이터 타입 확인 ---> 실수(float)\n",
    "flum_type = type(flum)\n",
    "print(flum_type)"
   ]
  },
  {
   "cell_type": "markdown",
   "id": "0d35edcd",
   "metadata": {},
   "source": [
    "### 문자열로 변환"
   ]
  },
  {
   "cell_type": "code",
   "execution_count": null,
   "id": "6f0738de",
   "metadata": {},
   "outputs": [
    {
     "name": "stdout",
     "output_type": "stream",
     "text": [
      "<class 'int'> <class 'str'>\n"
     ]
    }
   ],
   "source": [
    "#모든 데이터 타입을 문자열로 변환\n",
    "num1 = 100\n",
    "s1 = str(num1)\n",
    "print(type(num1), type(s1))"
   ]
  },
  {
   "cell_type": "markdown",
   "id": "cdfeb8f6",
   "metadata": {},
   "source": [
    "### 간단한 연산 기능 함수"
   ]
  },
  {
   "cell_type": "code",
   "execution_count": null,
   "id": "7d8e85ef",
   "metadata": {},
   "outputs": [
    {
     "name": "stdout",
     "output_type": "stream",
     "text": [
      "256\n",
      "100\n"
     ]
    }
   ],
   "source": [
    "# 제곱근 구하기 ---> '2**8'연산과 동일\n",
    "a = pow(2,8)\n",
    "print(a)\n",
    "\n",
    "#절댓값 구하기\n",
    "b = abs(-100)\n",
    "print(b)"
   ]
  },
  {
   "cell_type": "markdown",
   "id": "8d8e4b33",
   "metadata": {},
   "source": [
    "## #2.파이썬 함수의 정의와 호출"
   ]
  },
  {
   "cell_type": "code",
   "execution_count": null,
   "id": "75300d95",
   "metadata": {},
   "outputs": [],
   "source": [
    "# 기본적인 함수의 정의 방법\n",
    "\n",
    "def say_hello():    \n",
    "    print(\"hello python\")\n",
    "    print(\"안녕 파이썬\")"
   ]
  },
  {
   "cell_type": "code",
   "execution_count": null,
   "id": "4bb15c17",
   "metadata": {},
   "outputs": [
    {
     "name": "stdout",
     "output_type": "stream",
     "text": [
      "hello python\n",
      "안녕 파이썬\n",
      "hello python\n",
      "안녕 파이썬\n"
     ]
    }
   ],
   "source": [
    "#정의한 함수 호출\n",
    "''' jupyter환경은 코드 블록이 서로 다르더라도 \n",
    "이전에 실행된 내역을 모두 기억하고 있기 때문에 \n",
    "코드의 진행이 서로 연결'''\n",
    "say_hello()\n",
    "say_hello()"
   ]
  },
  {
   "cell_type": "markdown",
   "id": "19650916",
   "metadata": {},
   "source": [
    "### 함수에 파라미터를전달하지 않을 경우 에러 발생\n"
   ]
  },
  {
   "cell_type": "code",
   "execution_count": null,
   "id": "2d37998b",
   "metadata": {},
   "outputs": [],
   "source": [
    "#파라미터를 전달하는 경우와 반대의 경우 비교\n",
    "def foo(count):\n",
    "    x = count * 10\n",
    "    print(x)"
   ]
  },
  {
   "cell_type": "code",
   "execution_count": null,
   "id": "4174d609",
   "metadata": {},
   "outputs": [
    {
     "name": "stdout",
     "output_type": "stream",
     "text": [
      "20\n"
     ]
    }
   ],
   "source": [
    "foo(2)"
   ]
  },
  {
   "cell_type": "code",
   "execution_count": null,
   "id": "cd9ed1fc",
   "metadata": {},
   "outputs": [
    {
     "ename": "TypeError",
     "evalue": "foo() missing 1 required positional argument: 'count'",
     "output_type": "error",
     "traceback": [
      "\u001b[31m---------------------------------------------------------------------------\u001b[39m",
      "\u001b[31mTypeError\u001b[39m                                 Traceback (most recent call last)",
      "\u001b[36mCell\u001b[39m\u001b[36m \u001b[39m\u001b[32mIn[37]\u001b[39m\u001b[32m, line 1\u001b[39m\n\u001b[32m----> \u001b[39m\u001b[32m1\u001b[39m \u001b[43mfoo\u001b[49m\u001b[43m(\u001b[49m\u001b[43m)\u001b[49m\n",
      "\u001b[31mTypeError\u001b[39m: foo() missing 1 required positional argument: 'count'"
     ]
    }
   ],
   "source": [
    "foo()"
   ]
  },
  {
   "cell_type": "markdown",
   "id": "d8c1ae52",
   "metadata": {},
   "source": [
    "### 다중 파라미터"
   ]
  },
  {
   "cell_type": "code",
   "execution_count": null,
   "id": "118b9568",
   "metadata": {},
   "outputs": [],
   "source": [
    "# 여러 개의 매개변수 \n",
    "# 특정 함수가 연산을 수행하기 위해 두 개 이상의 조건값이 필요하다면\n",
    "#다음과 같이 콤마로 구분하여 명시_f(x1,x2)"
   ]
  },
  {
   "cell_type": "code",
   "execution_count": null,
   "id": "b2f5de5e",
   "metadata": {},
   "outputs": [],
   "source": [
    "#기본값을 갖는 파라미터\n",
    "def sum1(x,y,z=0):\n",
    "    answer = x + y + z\n",
    "    print(answer)"
   ]
  },
  {
   "cell_type": "code",
   "execution_count": null,
   "id": "23bf054a",
   "metadata": {},
   "outputs": [
    {
     "name": "stdout",
     "output_type": "stream",
     "text": [
      "6\n"
     ]
    }
   ],
   "source": [
    "\n",
    "#모든 파라미터 값을 전달하며 함수 호출\n",
    "sum1(1,2,3)\n"
   ]
  },
  {
   "cell_type": "code",
   "execution_count": null,
   "id": "e7ab05a7",
   "metadata": {},
   "outputs": [
    {
     "name": "stdout",
     "output_type": "stream",
     "text": [
      "30\n"
     ]
    }
   ],
   "source": [
    "#초기값이 설정된 파라미터는 호출시에 생략 가능 \n",
    "# -> 생략된 파라미터는 초기값으로 설정\n",
    "sum1(10,20)"
   ]
  },
  {
   "cell_type": "markdown",
   "id": "5e64d13f",
   "metadata": {},
   "source": [
    "### 파라미터의 이름 지정"
   ]
  },
  {
   "cell_type": "code",
   "execution_count": null,
   "id": "fecb6be9",
   "metadata": {},
   "outputs": [],
   "source": [
    "def sum2(a,b,c=0,d=0):\n",
    "    answer = a+b+c+d\n",
    "    print(answer)"
   ]
  },
  {
   "cell_type": "code",
   "execution_count": null,
   "id": "d3505b9c",
   "metadata": {},
   "outputs": [
    {
     "name": "stdout",
     "output_type": "stream",
     "text": [
      "10\n"
     ]
    }
   ],
   "source": [
    "#파라미터의 이름을 지정한 함수 호출\n",
    "# -> 파라미터 전달 순서를 무시할 수 있다.\n",
    "sum2( d=3,c=4,b=2,a=1)"
   ]
  },
  {
   "cell_type": "code",
   "execution_count": null,
   "id": "938c718a",
   "metadata": {},
   "outputs": [
    {
     "name": "stdout",
     "output_type": "stream",
     "text": [
      "3\n"
     ]
    }
   ],
   "source": [
    "#함수에 정의된 기본값 활용\n",
    "sum2(1,b=2)"
   ]
  },
  {
   "cell_type": "markdown",
   "id": "85d0d5d5",
   "metadata": {},
   "source": [
    "### 값을 리턴하는 함수"
   ]
  },
  {
   "cell_type": "code",
   "execution_count": null,
   "id": "70f68954",
   "metadata": {},
   "outputs": [],
   "source": [
    "def plus(x,y):\n",
    "    z=x+y\n",
    "    return z    #자신이 호출된 위치로 값을 되돌림"
   ]
  },
  {
   "cell_type": "code",
   "execution_count": null,
   "id": "13b39dfe",
   "metadata": {},
   "outputs": [
    {
     "name": "stdout",
     "output_type": "stream",
     "text": [
      "30\n"
     ]
    }
   ],
   "source": [
    "a = plus(10,20)     #리턴값을 다른 변수에 할당\n",
    "print(a)"
   ]
  },
  {
   "cell_type": "code",
   "execution_count": null,
   "id": "7288aa82",
   "metadata": {},
   "outputs": [
    {
     "name": "stdout",
     "output_type": "stream",
     "text": [
      "300\n"
     ]
    }
   ],
   "source": [
    "print(plus(100,200)) #리턴값을 갖는 함수는 그 결과를 직접 출력"
   ]
  },
  {
   "cell_type": "code",
   "execution_count": null,
   "id": "113baaf4",
   "metadata": {},
   "outputs": [
    {
     "name": "stdout",
     "output_type": "stream",
     "text": [
      "112\n"
     ]
    }
   ],
   "source": [
    "b = plus(5,7)+100   #리턴값을 갖는 함수는 그 결과를 다른 연산에 활용\n",
    "print(b)"
   ]
  },
  {
   "cell_type": "markdown",
   "id": "00078822",
   "metadata": {},
   "source": [
    "## #3.조건문 이해하기"
   ]
  },
  {
   "cell_type": "code",
   "execution_count": null,
   "id": "64b4aa0d",
   "metadata": {},
   "outputs": [
    {
     "name": "stdout",
     "output_type": "stream",
     "text": [
      "시험시작\n",
      "시험 끝\n"
     ]
    }
   ],
   "source": [
    "print(\"시험시작\")\n",
    "score = int(input(\"점수를 입력하세요\"))\n",
    "if score >= 60:\n",
    "    print(\"합격입니다\")\n",
    "print(\"시험 끝\")"
   ]
  },
  {
   "cell_type": "markdown",
   "id": "c9e98459",
   "metadata": {},
   "source": [
    "### 조건식에 대한 다양한 유형"
   ]
  },
  {
   "cell_type": "code",
   "execution_count": null,
   "id": "70a6ecd7",
   "metadata": {},
   "outputs": [
    {
     "name": "stdout",
     "output_type": "stream",
     "text": [
      "택시를 타고\n",
      "집에 가자\n"
     ]
    }
   ],
   "source": [
    "#숫자형 변수에 대한 조건 처리\n",
    "money = 10000\n",
    "#money=0\n",
    "\n",
    "if money:\n",
    "    print(\"택시를 타고\")\n",
    "print(\"집에 가자\")"
   ]
  },
  {
   "cell_type": "code",
   "execution_count": null,
   "id": "7b562f57",
   "metadata": {},
   "outputs": [
    {
     "name": "stdout",
     "output_type": "stream",
     "text": [
      "python\n",
      "프로그래밍\n"
     ]
    }
   ],
   "source": [
    "# 문자열 변수에 대한 조건 처리\n",
    "name = \"python\"\n",
    "#name = \"\"   \n",
    "#빈 문자열은 따옴표를 열고 즉시 닫은 형태, 공백문자도 하나의 글자로 취급\n",
    "if name: \n",
    "    print(name)\n",
    "print(\"프로그래밍\")"
   ]
  },
  {
   "cell_type": "code",
   "execution_count": null,
   "id": "104f2154",
   "metadata": {},
   "outputs": [],
   "source": [
    "#비교식을 사용한 if문_ == / != / > /<="
   ]
  },
  {
   "cell_type": "code",
   "execution_count": null,
   "id": "b7c3c8d0",
   "metadata": {},
   "outputs": [],
   "source": [
    "#논리식을 사용한 if문\n",
    "point = int(input(\"점수를 입력하세요\"))\n",
    "#AND --> 전체가 참이어야 결과가 참\n",
    "if point > 70 and point <= 80:\n",
    "    print(\"C학점\")\n",
    "\n",
    "#OR --> 하나라도 참이면 전체가 참\n",
    "if point <= 70 or point > 80:\n",
    "    print(\"C학점 아님\" )"
   ]
  },
  {
   "cell_type": "code",
   "execution_count": null,
   "id": "6d9c0c16",
   "metadata": {},
   "outputs": [
    {
     "name": "stdout",
     "output_type": "stream",
     "text": [
      "한국사람입니다...(1)\n",
      "한국사람이 아닙니다...(2)\n"
     ]
    }
   ],
   "source": [
    "#논리값에 대한 조건문\n",
    "iskorean = True\n",
    "#iskorean = false\n",
    "\n",
    "if iskorean == True:\n",
    "    print(\"한국사람입니다...(1)\")\n",
    "\n",
    "if iskorean != False:\n",
    "    print(\"한국사람이 아닙니다...(2)\")\n",
    "\n",
    "if not iskorean:\n",
    "    print(\"한국사람이 아닙니다...(3)\")"
   ]
  },
  {
   "cell_type": "markdown",
   "id": "b2a9f875",
   "metadata": {},
   "source": [
    "### ELSE문"
   ]
  },
  {
   "cell_type": "code",
   "execution_count": null,
   "id": "018dd08b",
   "metadata": {},
   "outputs": [
    {
     "name": "stdout",
     "output_type": "stream",
     "text": [
      "시험 시작\n",
      "합격입니다.\n",
      "시험 끝\n"
     ]
    }
   ],
   "source": [
    "#입력값에 따른 IF~ELSE 분기 파악\n",
    "print(\"시험 시작\")\n",
    "\n",
    "score = int(input(\"점수를 입력하세요: \"))  # 입력값을 정수형으로 변환\n",
    "\n",
    "if score >= 60:\n",
    "    print(\"합격입니다.\")\n",
    "else:\n",
    "    print(\"불합격입니다.\")\n",
    "\n",
    "print(\"시험 끝\")"
   ]
  },
  {
   "cell_type": "code",
   "execution_count": null,
   "id": "17c86f90",
   "metadata": {},
   "outputs": [
    {
     "name": "stdout",
     "output_type": "stream",
     "text": [
      "한국사람이 아닙니다...(2)\n",
      "한국사람이 아닙니다...(3)\n"
     ]
    }
   ],
   "source": [
    "#논리형 변수가 조건으로 사용되는 경우의 흐름제어 파악\n",
    "# 사용자에게 질문 입력 받기\n",
    "answer = input(\"한국인입니까? (Y/N) \")  # 예: Y\n",
    "\n",
    "# 입력값에 따라 논리값 설정\n",
    "if answer == \"Y\":\n",
    "    isKorean = True\n",
    "else:\n",
    "    isKorean = False\n",
    "\n",
    "# (1) 논리값을 조건으로 사용\n",
    "# \"만약 이 변수가 참이라면?\" 의 의미\n",
    "if isKorean:\n",
    "    print(\"한국사람 입니다...(1)\")\n",
    "else:\n",
    "    print(\"한국사람이 아닙니다...(2)\")\n",
    "\n",
    "# (2) 논리값의 부정형을 조건으로 사용\n",
    "# \"만약 이 변수가 거짓이라면?\" 의 의미\n",
    "if not isKorean:\n",
    "    print(\"한국사람이 아닙니다...(3)\")\n",
    "else:\n",
    "    print(\"한국사람 입니다...(4)\")"
   ]
  },
  {
   "cell_type": "markdown",
   "id": "e3a09c5d",
   "metadata": {},
   "source": [
    "### ELIF문"
   ]
  },
  {
   "cell_type": "code",
   "execution_count": null,
   "id": "935f4b90",
   "metadata": {},
   "outputs": [
    {
     "name": "stdout",
     "output_type": "stream",
     "text": [
      "-----시험-----\n",
      "불합격\n",
      "----시험 끝----\n"
     ]
    }
   ],
   "source": [
    "#조건식이 True로 판정되는 첫 번째 블록만 실행\n",
    "print(\"-----시험-----\")\n",
    "point = int(input(\"점수를 입력하세요\"))\n",
    "if point > 90:\n",
    "    print(\"A\")\n",
    "elif point > 80:\n",
    "    print(\"B\")\n",
    "elif point > 70:\n",
    "    print(\"C\")\n",
    "else:\n",
    "    print(\"불합격\")\n",
    "print(\"----시험 끝----\")"
   ]
  },
  {
   "cell_type": "markdown",
   "id": "a291a3a1",
   "metadata": {},
   "source": [
    "## #4. 반복문"
   ]
  },
  {
   "cell_type": "markdown",
   "id": "73ce2aba",
   "metadata": {},
   "source": [
    "### WHILE문"
   ]
  },
  {
   "cell_type": "code",
   "execution_count": 87,
   "id": "d94c0a74",
   "metadata": {},
   "outputs": [
    {
     "name": "stdout",
     "output_type": "stream",
     "text": [
      "x= 1\n",
      "x= 2\n",
      "x= 3\n",
      "x= 4\n",
      "x= 5\n",
      "x= 6\n",
      "x= 7\n",
      "x= 8\n",
      "x= 9\n",
      "x= 10\n",
      "x의 최종값 = 11\n"
     ]
    }
   ],
   "source": [
    "#1부터 10까지의 1씩 증가하는 조건에서의 반복문\n",
    "x = 1                       #초기식_ 조건식을 판별하기 위한 기준값 생성\n",
    "while x <= 10:              #조건식_조건 판별\n",
    "    print(\"x=\", x)\n",
    "    x += 1                  #증감식_조건에 사용되는 값 변경\n",
    "print(\"x의 최종값 =\", x)\n",
    "# x의 최종값은 (3)의 조건에 의해 x=10로 최종 반복"
   ]
  },
  {
   "cell_type": "code",
   "execution_count": null,
   "id": "fa38f413",
   "metadata": {},
   "outputs": [],
   "source": [
    "# 구구단 출력\n",
    "x = int(input(\"숫자를 입력해주세요.\"))\n",
    "#구구단 출력\n",
    "y =1\n",
    "while y < 10:\n",
    "    z = x*y\n",
    "    print(x,\"x\",y\"y\")\n",
    "    x += 1\n",
    "print(\"x의 최종값 =\", x)"
   ]
  },
  {
   "cell_type": "code",
   "execution_count": null,
   "id": "4e1eff73",
   "metadata": {},
   "outputs": [],
   "source": [
    "# 1~10까지의 총 합을 구하기\n",
    "# 총합을 구하기 위해서는 반복문 시작 전에 \n",
    "# 합산 결과를 저장할 변수를 0으로 초기화해야 함\n",
    "x = 1           # 초기식\n",
    "sum = 0         # 총 합을 누적해서 저장할 변수\n",
    "while x <= 10:  # 조건식 → x가 10보다 작거나 같은 동안 반복 수행\n",
    "    sum += x\n",
    "    print(\"x =\", x, \" -> sum =\", sum)\n",
    "    x += 1      # 증가식 → 조건에 사용되는 값 변경"
   ]
  },
  {
   "cell_type": "code",
   "execution_count": null,
   "id": "d921184f",
   "metadata": {},
   "outputs": [],
   "source": [
    "# 0부터 50 전까지( a<50 ) 10씩 증가( a+= 10 )"
   ]
  },
  {
   "cell_type": "code",
   "execution_count": 92,
   "id": "d51f23bf",
   "metadata": {},
   "outputs": [],
   "source": [
    "# 10부터 0전까지( b > 0) 2씩 감소( b -= 2)"
   ]
  },
  {
   "cell_type": "markdown",
   "id": "1df7baa0",
   "metadata": {},
   "source": [
    "### FOR문\n"
   ]
  },
  {
   "cell_type": "code",
   "execution_count": 93,
   "id": "3ff85536",
   "metadata": {},
   "outputs": [
    {
     "name": "stdout",
     "output_type": "stream",
     "text": [
      "x = 1\n",
      "x = 2\n",
      "x = 3\n",
      "x = 4\n",
      "x = 5\n",
      "x = 6\n",
      "x = 7\n",
      "x = 8\n",
      "x = 9\n",
      "x = 10\n",
      "x의 최종값 = 10\n"
     ]
    }
   ],
   "source": [
    "# x가 1부터 11 전까지 1씩 증가하면서 반복 수행\n",
    "\n",
    "for x in range(1, 11):\n",
    "    # 반복이 진행되는 동안 수행할 명령\n",
    "    print(\"x =\", x)\n",
    "\n",
    "# 반복이 끝난 후 x의 값 출력\n",
    "print(\"x의 최종값 =\", x)\n",
    "\n",
    "# While문은 10보다 커야 종료되지만,\n",
    "# for문은 10에서 종료"
   ]
  },
  {
   "cell_type": "code",
   "execution_count": 95,
   "id": "27b99a7e",
   "metadata": {},
   "outputs": [
    {
     "name": "stdout",
     "output_type": "stream",
     "text": [
      "4 x 1 = 4\n",
      "4 x 2 = 8\n",
      "4 x 3 = 12\n",
      "4 x 4 = 16\n",
      "4 x 5 = 20\n",
      "4 x 6 = 24\n",
      "4 x 7 = 28\n",
      "4 x 8 = 32\n",
      "4 x 9 = 36\n"
     ]
    }
   ],
   "source": [
    "# 숫자를 입력받기\n",
    "\n",
    "x = int(input(\"숫자를 입력하세요: \"))  # 예: 7\n",
    "\n",
    "# 1부터 9까지 1씩 증가하는 값을 y에 설정\n",
    "for y in range(1, 10):\n",
    "    # 반복이 진행되는 동안 수행할 명령\n",
    "    z = x * y\n",
    "    print(x, \"x\", y, \"=\", z)\n"
   ]
  },
  {
   "cell_type": "code",
   "execution_count": 96,
   "id": "9adecbed",
   "metadata": {},
   "outputs": [
    {
     "name": "stdout",
     "output_type": "stream",
     "text": [
      "x = 1 -> sum = 1\n",
      "x = 2 -> sum = 3\n",
      "x = 3 -> sum = 6\n",
      "x = 4 -> sum = 10\n",
      "x = 5 -> sum = 15\n",
      "x = 6 -> sum = 21\n",
      "x = 7 -> sum = 28\n",
      "x = 8 -> sum = 36\n",
      "x = 9 -> sum = 45\n",
      "x = 10 -> sum = 55\n"
     ]
    }
   ],
   "source": [
    "# 1~10까지의 총 합을 구하기\n",
    "# 총합을 구하기 위해서는 반복문 시작 전에 합산 결과를\n",
    "# 저장할 변수를 0으로 초기화\n",
    "\n",
    "sum = 0   # 총 합을 누적해서 저장할 변수\n",
    "\n",
    "for x in range(1, 11):  # x가 1부터 11전까지 1씩 증가하면서 반복수행\n",
    "    # sum이 x만큼 스스로 증가\n",
    "    # -> x가 1~10까지 변화하므로 sum은 1부터 10까지 순차적으로 증가\n",
    "    sum += x\n",
    "    print(\"x =\", x, \"-> sum =\", sum)"
   ]
  },
  {
   "cell_type": "code",
   "execution_count": null,
   "id": "d79ccf2b",
   "metadata": {},
   "outputs": [],
   "source": [
    "# 0부터 50전까지 10씩 증가 ==>  range(0,50,10)"
   ]
  },
  {
   "cell_type": "code",
   "execution_count": null,
   "id": "0ca2380b",
   "metadata": {},
   "outputs": [],
   "source": [
    "# 10부터 0전까지 -2씩 감소 ==> range(10,0,-2)"
   ]
  }
 ],
 "metadata": {
  "kernelspec": {
   "display_name": "Python 3",
   "language": "python",
   "name": "python3"
  },
  "language_info": {
   "codemirror_mode": {
    "name": "ipython",
    "version": 3
   },
   "file_extension": ".py",
   "mimetype": "text/x-python",
   "name": "python",
   "nbconvert_exporter": "python",
   "pygments_lexer": "ipython3",
   "version": "3.13.9"
  }
 },
 "nbformat": 4,
 "nbformat_minor": 5
}
