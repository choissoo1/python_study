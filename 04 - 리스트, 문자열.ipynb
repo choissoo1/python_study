{
 "cells": [
  {
   "cell_type": "markdown",
   "id": "811808c7",
   "metadata": {},
   "source": [
    "# [ LAB-04 ] 리스트, 문자열\n"
   ]
  },
  {
   "cell_type": "markdown",
   "id": "99bd46da",
   "metadata": {},
   "source": [
    "## #1. 리스트의 탐색"
   ]
  },
  {
   "cell_type": "markdown",
   "id": "400c0593",
   "metadata": {},
   "source": [
    "### 리스트 원소에 대한 합계, 평균 구하기\n"
   ]
  },
  {
   "cell_type": "code",
   "execution_count": null,
   "id": "cc6fa08d",
   "metadata": {},
   "outputs": [],
   "source": [
    "#성적에 대한 총점,평균 구하기\n",
    "score = [100,82,98,76,51 ]\n",
    "# -> 총점을 저장할 변수\n",
    "# 반복 시작 전에 합계를 저장할 변수를 0으로 초기화!!!\n",
    "total = 0\n",
    "for v in score:\n",
    "    #총점은 각 원소를 누적해서 더함\n",
    "    total += v\n",
    "# 평균은 총 합에서 원소의 수를 나눔\n",
    "# -> \"//\"는 나눗셈에서 정수부분의 몫만 구함\n",
    "avg = total // len(score)\n",
    "print(\"총점:\", total, \", 평균:\", avg)"
   ]
  },
  {
   "cell_type": "markdown",
   "id": "48d552a1",
   "metadata": {},
   "source": [
    "### 리스트의 인덱스와 원소 탐색"
   ]
  },
  {
   "cell_type": "code",
   "execution_count": null,
   "id": "4e3a9003",
   "metadata": {},
   "outputs": [],
   "source": [
    "# i에는 리스트의 인덱스가 저장\n",
    "# v에는 리스트의 값(원소)가 저장\n",
    "# i,v는 단순 변수이므로 개발자 편의에 따라 이름지을 수 있음\n",
    "city = ['서울', '인천', '대구', '대전', '광주', '부산']\n",
    "for i, v in enumerate(city):\n",
    "    print( i, '번째 값:', v)"
   ]
  },
  {
   "cell_type": "markdown",
   "id": "aa4594cd",
   "metadata": {},
   "source": [
    "### 리스트 인덱스 번호에 대한 반복 범위 설정"
   ]
  },
  {
   "cell_type": "code",
   "execution_count": null,
   "id": "bec07026",
   "metadata": {},
   "outputs": [],
   "source": [
    "# 원소의 수를 조회한 다음 직접 반복범위 지정하기\n",
    "seasons = ['봄', '여름', '가을', '겨울' ]\n",
    "size = len(seasons)\n",
    "for i in range(0,size):\n",
    " print(i, \"번째 원소\", seasons[i])\n"
   ]
  },
  {
   "cell_type": "markdown",
   "id": "e7da43d2",
   "metadata": {},
   "source": [
    "### 리스트 자체를 탐색하는 for문"
   ]
  },
  {
   "cell_type": "code",
   "execution_count": null,
   "id": "143d7222",
   "metadata": {},
   "outputs": [],
   "source": [
    "msg = ['python', ' is', 'good' ]\n",
    "# -> 리스트의 각 원소를 순차적으로 i에 대입하면서 반복\n",
    "for i in msg: #반복범위 i = python, is, good\n",
    " print(i)"
   ]
  },
  {
   "cell_type": "markdown",
   "id": "0d40c374",
   "metadata": {},
   "source": []
  },
  {
   "cell_type": "markdown",
   "id": "3bdf5c2f",
   "metadata": {},
   "source": [
    "### 2차원 리스트 탐색 패턴"
   ]
  },
  {
   "cell_type": "code",
   "execution_count": null,
   "id": "71fbb8d8",
   "metadata": {},
   "outputs": [],
   "source": [
    "# 2차원 리스트의 가 원소에 대한 반복문 구성\n",
    "\n",
    "mydata = [[88,72,83,90], [63,77,72,89]]\n",
    "\n",
    "size = len(mydata)   #2차원 리스트의 길이는 행의 수를 반환\n",
    "print(\"size = \", size)\n",
    "for i in range(0,size):   # 행의 수 만큼 반복하는 구성\n",
    "    # i번째 행에 포함되어 있는 개별 리스트 출력\n",
    "    print(i,\"번째 데이터 -> \", mydata[i])\n",
    "    \n",
    "    # 각 행 단위 합계이므로 매 행마다 합계 변수를 새로 초기화\n",
    "    total = 0  \n",
    "    size = len(mydata[i])  # 각 행에 포함된 개별 리스트의 길이\n",
    "    for j in range(0,size):   # mydata[i]에 대한 새로운 반복문 구성\n",
    "        total += mydata[i][j]\n",
    "    average = total/size   # 행 단위의 평균값\n",
    "    print(i, \" 번째 데이터 ==> 총합 =\", \"평균 = \", average)\n",
    "\n"
   ]
  },
  {
   "cell_type": "code",
   "execution_count": null,
   "id": "f263b171",
   "metadata": {},
   "outputs": [],
   "source": [
    "# 2차 리스트를 반복문에 직접 적용한 경우\n",
    "# - 반복문의 변수가 리스트의 원소가 됨\n",
    "# - 2차원 리스트의 경우 원소는 각각의 자식 리스트가 됨\n",
    " \n",
    "mydata = [[88,72,83,90], [63,77,72,89]]\n",
    "for row in mydata:  \n",
    "    # mydata의 원소 하나인 리스트를 출력, 몇 번째 항목인지 알 수 없음 \n",
    "    print(\"이번에 출력되는 데이터 -> \", row)\n",
    "\n",
    "# row = [88,72,83,90], [63,77,72,89]\n"
   ]
  },
  {
   "cell_type": "code",
   "execution_count": null,
   "id": "2f2fcc5b",
   "metadata": {},
   "outputs": [],
   "source": [
    "mydata = [[88,72,83,90], [63,77,72,89]]\n",
    "for row in mydata:   \n",
    "    print(\"이번에 출력되는 데이터 -> \", row)\n",
    "    total = 0\n",
    "    for col in row:  # row에 대한 새로운 반복문 구성\n",
    "        total += col\n",
    "    average = total/len(row)\n",
    "    print(row, \"에 대한 총합 =\", total, \", 평균\", average)\n",
    "\n",
    "# row가  [88,72,83,90]일 때 col 범위 = 88,72,83,90\n",
    "# row가  [63,77,72,89]일 때 col 범위 = 63,77,72,89"
   ]
  },
  {
   "cell_type": "markdown",
   "id": "2567eef1",
   "metadata": {},
   "source": [
    "## #2. 리스트 관련 함수"
   ]
  },
  {
   "cell_type": "markdown",
   "id": "8f299aeb",
   "metadata": {},
   "source": [
    "\n",
    "### 리스트의 원소의 정렬"
   ]
  },
  {
   "cell_type": "code",
   "execution_count": null,
   "id": "9aa0cf25",
   "metadata": {},
   "outputs": [],
   "source": [
    "# sorted() 함수 : 원본은 유지되고 정렬결과가 적용된 복사본이 리턴\n",
    "\n",
    "# 원본 리스트\n",
    "mylist = [4,2,5,3,1]\n",
    "print(mylist)\n",
    "\n",
    "# 원소의 순차 정렬\n",
    "asc = sorted(mylist)\n",
    "print(asc)\n",
    "\n",
    "# 원소의 역순 정렬\n",
    "desc = sorted(mylist)\n",
    "print(desc)\n",
    "\n",
    "print(mylist)"
   ]
  },
  {
   "cell_type": "markdown",
   "id": "a3013b37",
   "metadata": {},
   "source": [
    "### 리스트, 튜플 상호 변환/ 수열 만들기"
   ]
  },
  {
   "cell_type": "code",
   "execution_count": null,
   "id": "90c1dc31",
   "metadata": {},
   "outputs": [],
   "source": [
    "# 반복 가능한 자료형을 리스트로 변환\n",
    "# 문자열의 경우 글자들의 모음으로 변환함\n",
    "\n",
    "a = \"python\"\n",
    "b = list(a)\n",
    "#b = tuple(a)\n",
    "print(b)\n",
    "\n",
    "#튜플을 리스트 혹은 튜플로 변환함\n",
    "c = (1,2,3)\n",
    "d = list(c)\n",
    "#d = tuple(c)\n",
    "print(d)\n",
    "\n",
    "#리스트를 리스트 혹은 튜플로 변환함\n",
    "\n",
    "# 1부터 10전까지 1씩 증가하는 range 객체 생성\n",
    "k = range(1,10)\n",
    "print(type(k))\n",
    "print(k)\n",
    "# 생성된 수열 객체를 리스트로 변환\n",
    "\n",
    "# 1부터 10전까지 3씩 증가하는 range 객체를 list로 변환\n",
    "k = list(range(1,10,3))\n",
    "print(k)"
   ]
  },
  {
   "cell_type": "markdown",
   "id": "09b3cbed",
   "metadata": {},
   "source": [
    "### 리스트의 원소 추가"
   ]
  },
  {
   "cell_type": "code",
   "execution_count": null,
   "id": "63980e2c",
   "metadata": {},
   "outputs": [],
   "source": [
    "# 중간 삽입\n",
    "# -> 1번째 위치에 10을 삽입. 기존의 항목들이 밀려남\n",
    "mylist = [1,2,3]\n",
    "mylist.insert(1,10)\n",
    "print(mylist)\n",
    "\n",
    "#맨 앞에 삽입\n",
    "# -. 0번재 위치에 10을 삽입\n",
    "mylist = [1,2,3]\n",
    "mylist.insert(0,10)\n",
    "print(mylist)\n",
    "\n",
    "# append와 같은 효과\n",
    "mylist = [1,2,3]\n",
    "lastindex = len(mylist)\n",
    "mylist.insert(lastindex,10)\n",
    "print(mylist)"
   ]
  },
  {
   "cell_type": "code",
   "execution_count": null,
   "id": "299216c8",
   "metadata": {},
   "outputs": [],
   "source": [
    "# 리스트의 맨 뒤에 원소를 추가_append()\n",
    "\n",
    "#맨 뒤에 내용 추가 --> 원본에 직접 반영\n",
    "mylist = [1,2,3]\n",
    "mylist.append(4)\n",
    "print(mylist)\n",
    "\n",
    "# 리스트를 append 할 경우 2차 리스트로 삽입\n",
    "mylist = [1,2,3]\n",
    "mylist.append([5,6])\n",
    "print(mylist)"
   ]
  },
  {
   "cell_type": "markdown",
   "id": "03a607e9",
   "metadata": {},
   "source": [
    "### 리스트의 원소 추출\n",
    "\n"
   ]
  },
  {
   "cell_type": "code",
   "execution_count": null,
   "id": "fa0ef935",
   "metadata": {},
   "outputs": [],
   "source": [
    "# 맨 마지막 원소를 꺼내서 리턴하고 원본에서 삭제\n",
    "mylist = [1,2,3]\n",
    "k = mylist.pop()\n",
    "print(k)\n",
    "print(mylist)"
   ]
  },
  {
   "cell_type": "markdown",
   "id": "09c7a67c",
   "metadata": {},
   "source": [
    "### 리스트의 확장과 축소"
   ]
  },
  {
   "cell_type": "code",
   "execution_count": null,
   "id": "74d23795",
   "metadata": {},
   "outputs": [],
   "source": [
    "# extend 메서드를 호출한 원본에 파라미터로 전달된 리스트를 덧붙임\n",
    "mylist = [1,2,3]\n",
    "addon = [10,9,8,7]\n",
    "mylist.extend(addon)\n",
    "print(mylist)\n",
    "\n",
    "# 주어진 값과 일치하는 첫 번째 원소를 삭제\n",
    "mylist = [1,2,3,10,1,2,3,10]\n",
    "mylist.remove(10)\n",
    "print(mylist)"
   ]
  },
  {
   "cell_type": "markdown",
   "id": "03201348",
   "metadata": {},
   "source": [
    "### 리스트의 역순 배치\n"
   ]
  },
  {
   "cell_type": "code",
   "execution_count": null,
   "id": "0c077e02",
   "metadata": {},
   "outputs": [],
   "source": [
    "# 원소의 순서를 뒤집음\n",
    "mylist = [1,7,5,2,9]\n",
    "mylist.reverse()\n",
    "print(mylist)"
   ]
  },
  {
   "cell_type": "markdown",
   "id": "48df9873",
   "metadata": {},
   "source": [
    "### 리스트 원소의 오름차순, 내림차순"
   ]
  },
  {
   "cell_type": "code",
   "execution_count": null,
   "id": "0b654e33",
   "metadata": {},
   "outputs": [],
   "source": [
    "# 순차정렬(오름차순) --> 객체 원본에 반영\n",
    "mylist = [2,5,1,4,3]\n",
    "mylist.sort()\n",
    "print(mylist)\n",
    "\n",
    "# 역순정렬(내림차순) --> 객체 원본에 반영\n",
    "mylist = [2,5,1,4,3]\n",
    "mylist.sort(reverse=True)\n",
    "print(mylist)"
   ]
  },
  {
   "cell_type": "markdown",
   "id": "e49092d4",
   "metadata": {},
   "source": [
    "## #3. 문자열의 이해"
   ]
  },
  {
   "cell_type": "markdown",
   "id": "3c0f77f8",
   "metadata": {},
   "source": [
    "### 문자열의 덧셈\n"
   ]
  },
  {
   "cell_type": "code",
   "execution_count": null,
   "id": "176e3232",
   "metadata": {},
   "outputs": [],
   "source": [
    "# 문자열의 덧셈은 문자열을 연결하는 기능\n",
    "msg1 = \"Hello\"\n",
    "msg2 = \"Python\"\n",
    "print(msg1 + \",\" + msg2)\n",
    "\n",
    "# 따옴표로 감싸면 무조건 문장.\n",
    "# -> 숫자가 아니므로 연산 결과도 문자열 연산 규칙을 따름\n",
    "pay = '20000'\n",
    "bonus =\"100\"\n",
    "print(pay + bonus)"
   ]
  },
  {
   "cell_type": "markdown",
   "id": "42106eb6",
   "metadata": {},
   "source": [
    "### 문자열의 곱셈"
   ]
  },
  {
   "cell_type": "code",
   "execution_count": null,
   "id": "688bb8ca",
   "metadata": {},
   "outputs": [],
   "source": [
    "# 문자열에 숫자를 곱할 경우 같은 내용이 곱해진 만큼 반복\n",
    "# 문자열과 숫자의 곱셈은 동일 내용을 여러번 반복\n",
    "name = \"Python\"\n",
    "print(name*5)"
   ]
  },
  {
   "cell_type": "markdown",
   "id": "a0161216",
   "metadata": {},
   "source": [
    "### 이스케이프 문자 사용 방법"
   ]
  },
  {
   "cell_type": "code",
   "execution_count": null,
   "id": "34621a77",
   "metadata": {},
   "outputs": [],
   "source": [
    "# 쌍따옴표 안에 쌍따옴표 넣기 -> 이스케이프 문자 사용\n",
    "case1 = \"Life is \\\"too\\\"short\"\n",
    "print(case1)\n",
    "\n",
    "# 홑따옴표 안에 홑따옴표 넣기\n",
    "case2 = 'Life is \\'too\\'short'\n",
    "print(case2)\n",
    "\n",
    "# 줄바꿈 => \\n\n",
    "print(\"Life is yoo short\\nYou need Python\")\n",
    "\n",
    "# 탭키 => \\t\n",
    "print(\"Life is yoo short\\tYou need Python\")\n",
    "\n",
    "# 순수한 역슬래시 출력 => \\\\\n",
    "print(\"Life is yoo short\\\\You need Python\")"
   ]
  },
  {
   "cell_type": "markdown",
   "id": "fd2712a7",
   "metadata": {},
   "source": [
    "### 문자열 인덱싱"
   ]
  },
  {
   "cell_type": "code",
   "execution_count": null,
   "id": "bbed2bc7",
   "metadata": {},
   "outputs": [],
   "source": [
    "# 실습을 위한 문자열 변수 초기화\n",
    "mystr = \"Life is too short, You need Python\"\n",
    "print(mystr)\n",
    "\n",
    "# 3번째 문자 추출 -> 0부터 카운트\n",
    "print(mystr[3])\n",
    "\n",
    "# 뒤에서 3번째 글자 추출 -> -1부터 카운트\n",
    "# ( 0과 -0이 같은 같이기 때문)\n",
    "print(mystr[-3])"
   ]
  },
  {
   "cell_type": "markdown",
   "id": "124269d6",
   "metadata": {},
   "source": [
    "### 문자열 슬라이싱"
   ]
  },
  {
   "cell_type": "code",
   "execution_count": null,
   "id": "7fdbf136",
   "metadata": {},
   "outputs": [],
   "source": [
    "# 실습을 위한 문자열 변수 초기화\n",
    "mystr = \"Life is too short, You need Python\"\n",
    "print(mystr)\n",
    "\n",
    "# 앞에서 0번째 부터 4번째 전까지의 문자 추출\n",
    "print( mystr[0:4])\n",
    "\n",
    "#앞에서 5번째 부터 7번째 전까지의 문자 추출\n",
    "print(mystr[5:7])\n",
    "\n",
    "# 앞에서 19번째 부터 끝까지 추출\n",
    "print(mystr[19:])\n",
    "\n",
    "# 처음부터 앞에서 17번 전까지의 문자 추출\n",
    "print(mystr[:17])\n",
    "\n",
    "# 처음부터 끝까지 추출\n",
    "print(mystr[:])\n",
    "\n",
    "# 앞에서 19번째부터 -7번째 전까지 추출\n",
    "print(mystr[19:-7])\n",
    "# 슬라이싱에 사용되는 인덱스 번호의 순서가 잘못되면 출력되는 내용 없음\n",
    "print(mystr[7:5])"
   ]
  },
  {
   "cell_type": "markdown",
   "id": "d874bfea",
   "metadata": {},
   "source": [
    "## #4. 문자열 포맷팅"
   ]
  },
  {
   "cell_type": "markdown",
   "id": "28c50ef2",
   "metadata": {},
   "source": [
    "### 형식문자의 기본 사용"
   ]
  },
  {
   "cell_type": "code",
   "execution_count": null,
   "id": "c739723e",
   "metadata": {},
   "outputs": [],
   "source": [
    "# \"%\"연산자 뒤의 값이 \"%d를 치환한다.\"\n",
    "str1 =\"나는 %d원을 갖고 있다.\" %10000\n",
    "print(str1)\n",
    "\n",
    "# 실수값 표현하기\n",
    "money = 123.45678\n",
    "print(\"[%f]원 입니다.\" %money)\n",
    "\n",
    "lang = \"Python\"\n",
    "str2 = \"Hello %s\" %lang\n",
    "print(str2)"
   ]
  },
  {
   "cell_type": "markdown",
   "id": "0c823f55",
   "metadata": {},
   "source": [
    "### 두 개 이상의 형식문자 사용"
   ]
  },
  {
   "cell_type": "code",
   "execution_count": null,
   "id": "13dbbe3c",
   "metadata": {},
   "outputs": [],
   "source": [
    "# 형식문자를 포함한 문장만 별도의 변수로 지정\n",
    "str3 = \"%s 날짜는 %d년 %d월 %d일 입니다.\"\n",
    "\n",
    "# 여러 형식문자를 치환할 경우 값들을 괄호로 묶음\n",
    "msg1 = str3 %(\"정모\", 2023,1,1)\n",
    "print(msg1)\n",
    "\n",
    "msg2 = str3 %(\"약속\", 2023,3,5)\n",
    "print(msg2)"
   ]
  },
  {
   "cell_type": "markdown",
   "id": "d7b452b0",
   "metadata": {},
   "source": [
    "### 실수의 자릿수 표현과 정렬"
   ]
  },
  {
   "cell_type": "code",
   "execution_count": null,
   "id": "2b011a14",
   "metadata": {},
   "outputs": [],
   "source": [
    "# 실습을 위한 변수\n",
    "mymoney = 12345.6789\n",
    "\n",
    "# 소수점 3자리까지 표현하기 -> 소수점 4째자리에서 반올림\n",
    "print(\"[%0.3f]원 입니다.\" % mymoney)\n",
    "\n",
    "# 소수점 3자리까지 표현하되 전체 글자수는 10글자(빈자리 공백)\n",
    "#소수점이 자리수에 포함됨\n",
    "# -> 오른쪽 정렬\n",
    "print(\"[%10.3f]원 입니다.\" % mymoney)\n",
    "\n",
    "# 소수점 3자리까지 표현하되 전체 글자수는 10글자(빈자리 0)\n",
    "# -> 빈 자리를 0으로 채우는 경우 오른쪽 정렬만 가능\n",
    "print(\"[%010.3f]원 입니다.\" % mymoney)"
   ]
  },
  {
   "cell_type": "markdown",
   "id": "d0d5bd06",
   "metadata": {},
   "source": [
    "### 인덱스 번호를 사용한 문자열 포매팅"
   ]
  },
  {
   "cell_type": "code",
   "execution_count": null,
   "id": "8fcb4571",
   "metadata": {},
   "outputs": [],
   "source": [
    "# 0번째 위치에 format()함수에 전달된 0번째 값을 대입\n",
    "msg1 = \"I eat {0} apples\"\n",
    "print(  msg1.format(3))\n",
    "\n",
    "# 여러 개의 값을 혼용하기\n",
    "msg2 = \"{}은 {}년 {}월 {}일 입니다.\"\n",
    "print( msg2.format(\"개강일\", 2023,1,26))\n",
    "print(\"{}은 {}년 {}월 {}일 입니다.\".format(\"개강일\", 2023,1,26))"
   ]
  },
  {
   "cell_type": "markdown",
   "id": "bb8ce17c",
   "metadata": {},
   "source": [
    "### 인덱스 번호와 이름의 혼합 사용"
   ]
  },
  {
   "cell_type": "code",
   "execution_count": null,
   "id": "79cd191f",
   "metadata": {},
   "outputs": [],
   "source": [
    "#혼합사용 -> 숫자형식의 치환문자가 format()메서드 안에서 먼저 위치\n",
    "msg4 = \"{0}은 {yy}년 {mm}월 {dd}일 입니다.\"\n",
    "print( msg4.format(\"생일\",yy=2023, dd=31, mm=1))\n",
    "\n",
    "# 인덱스 번호는 format() 함수 내의 순서 \n",
    "# -> 형식 문자열 안에서 자유롭게 배치 가능\n",
    "fmt5 = \"{1} {name}는 이 {0}입니다.\" \n",
    "rst = fmt5.format(\"책\", \"좋은\", name =\"교과서\")\n",
    "print(rst)"
   ]
  },
  {
   "cell_type": "code",
   "execution_count": null,
   "id": "35b5b856",
   "metadata": {},
   "outputs": [],
   "source": [
    "# \"%\"연산자 뒤의 값이 \"%d를 치환한다.\"\n",
    "str1 =\"나는 %d원을 갖고 있다.\" %10000\n",
    "print(str1)\n",
    "\n",
    "# 실수값 표현하기\n",
    "money = 123.45678\n",
    "print(\"[%f]원 입니다.\" %money)\n",
    "\n",
    "lang = \"Python\"\n",
    "str2 = \"Hello %s\" %lang\n",
    "print(str2)"
   ]
  },
  {
   "cell_type": "code",
   "execution_count": null,
   "id": "3d4d6dfb",
   "metadata": {},
   "outputs": [],
   "source": [
    "# \"%\"연산자 뒤의 값이 \"%d를 치환한다.\"\n",
    "str1 =\"나는 %d원을 갖고 있다.\" %10000\n",
    "print(str1)\n",
    "\n",
    "# 실수값 표현하기\n",
    "money = 123.45678\n",
    "print(\"[%f]원 입니다.\" %money)\n",
    "\n",
    "lang = \"Python\"\n",
    "str2 = \"Hello %s\" %lang\n",
    "print(str2)"
   ]
  },
  {
   "cell_type": "markdown",
   "id": "fb7ed634",
   "metadata": {},
   "source": [
    "## #5.문자열 관련 함수"
   ]
  },
  {
   "cell_type": "code",
   "execution_count": 78,
   "id": "9e39a613",
   "metadata": {},
   "outputs": [
    {
     "name": "stdout",
     "output_type": "stream",
     "text": [
      "<class 'str'>\n",
      "123\n"
     ]
    }
   ],
   "source": [
    "num1 = 123\n",
    "num1_s = str(num1)\n",
    "print(type(num1_s))\n",
    "print(num1_s)"
   ]
  }
 ],
 "metadata": {
  "kernelspec": {
   "display_name": "Python 3",
   "language": "python",
   "name": "python3"
  },
  "language_info": {
   "codemirror_mode": {
    "name": "ipython",
    "version": 3
   },
   "file_extension": ".py",
   "mimetype": "text/x-python",
   "name": "python",
   "nbconvert_exporter": "python",
   "pygments_lexer": "ipython3",
   "version": "3.13.9"
  }
 },
 "nbformat": 4,
 "nbformat_minor": 5
}
