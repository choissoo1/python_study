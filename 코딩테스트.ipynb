{
 "cells": [
  {
   "cell_type": "code",
   "execution_count": null,
   "id": "e582f954",
   "metadata": {},
   "outputs": [],
   "source": [
    "## 두 수의 합(차) 구하기\n",
    "def solution(num1, num2):\n",
    "    answer = num1 + num2\n",
    "    return answer"
   ]
  },
  {
   "cell_type": "code",
   "execution_count": 5,
   "id": "fbeebd03",
   "metadata": {},
   "outputs": [],
   "source": [
    "## 두 수의 나눗셈\n",
    "# 정수 num1과 num2가 매개변수로 주어질 때, num1을 num2로 나눈 값에\n",
    "#  1,000을 곱한 후 정수 부분을 return 하도록 solution 함수를 완성\n",
    "def solution(num1, num2):\n",
    "    answer = int(num1/num2 *1000)\n",
    "    return answer"
   ]
  },
  {
   "cell_type": "code",
   "execution_count": 6,
   "id": "be6088dc",
   "metadata": {},
   "outputs": [],
   "source": [
    "# 나이 출력\n",
    "def solution(age):\n",
    "    answer = 2022 - age +1\n",
    "    return answer"
   ]
  },
  {
   "cell_type": "code",
   "execution_count": 7,
   "id": "89d714de",
   "metadata": {},
   "outputs": [],
   "source": [
    "#####\n",
    "# 양꼬치\n"
   ]
  },
  {
   "cell_type": "code",
   "execution_count": null,
   "id": "4c547121",
   "metadata": {},
   "outputs": [],
   "source": [
    "#####\n",
    "#개미군단"
   ]
  }
 ],
 "metadata": {
  "kernelspec": {
   "display_name": "Python 3",
   "language": "python",
   "name": "python3"
  },
  "language_info": {
   "codemirror_mode": {
    "name": "ipython",
    "version": 3
   },
   "file_extension": ".py",
   "mimetype": "text/x-python",
   "name": "python",
   "nbconvert_exporter": "python",
   "pygments_lexer": "ipython3",
   "version": "3.13.9"
  }
 },
 "nbformat": 4,
 "nbformat_minor": 5
}
