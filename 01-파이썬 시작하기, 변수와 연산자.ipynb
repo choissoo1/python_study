{
 "cells": [
  {
   "cell_type": "markdown",
   "id": "934724af",
   "metadata": {},
   "source": [
    "# lab01 -파이썬 시작, 변수와 연산자\n",
    "\n",
    "## #03. 첫 번째 프로그램\n",
    "\n",
    "### 소스코드 작성"
   ]
  },
  {
   "cell_type": "code",
   "execution_count": 1,
   "id": "1fa95300",
   "metadata": {},
   "outputs": [
    {
     "name": "stdout",
     "output_type": "stream",
     "text": [
      "Hello World\n",
      " 수정 확인 \n"
     ]
    }
   ],
   "source": [
    "# 메시지를 출력하는 명령어\n",
    "print(\"Hello World\")\n",
    "\n",
    "# 확인 메시지\n",
    "print(\" 수정 확인 \")"
   ]
  },
  {
   "cell_type": "code",
   "execution_count": 15,
   "id": "b2d04b6d",
   "metadata": {},
   "outputs": [
    {
     "name": "stdout",
     "output_type": "stream",
     "text": [
      "300\n"
     ]
    }
   ],
   "source": [
    "a = 100 #100을 의미하는 a라는 데이터 생성\n",
    "b = 200 #200을 의미하는 b라는 데이터 생성\n",
    "\n",
    "# 합산 결과 출력\n",
    "print(a+b)"
   ]
  },
  {
   "cell_type": "markdown",
   "id": "b4b5f6c4",
   "metadata": {},
   "source": [
    "## #04. 변수의 이해\n",
    "\n",
    "### 다양한 변수 만들기"
   ]
  },
  {
   "cell_type": "code",
   "execution_count": 16,
   "id": "d894f079",
   "metadata": {},
   "outputs": [
    {
     "name": "stdout",
     "output_type": "stream",
     "text": [
      "123\n",
      "-456\n"
     ]
    }
   ],
   "source": [
    "# 변수 만들기( 오른쪽에서 왼쪽으로 대입 -> 최초대입을 초기화라고 함)\n",
    "# -> 이름 = 값\n",
    "a = 123\n",
    "b = -456\n",
    "print(a)\n",
    "print(b)"
   ]
  },
  {
   "cell_type": "code",
   "execution_count": 21,
   "id": "576a2bed",
   "metadata": {},
   "outputs": [
    {
     "name": "stdout",
     "output_type": "stream",
     "text": [
      "10000\n"
     ]
    }
   ],
   "source": [
    "# 한 번 할당된 변수를 다른 값으로 변경 가능\n",
    "a =10000\n",
    "print(a)"
   ]
  },
  {
   "cell_type": "code",
   "execution_count": 22,
   "id": "dd294339",
   "metadata": {},
   "outputs": [
    {
     "name": "stdout",
     "output_type": "stream",
     "text": [
      "1.2\n",
      "-3.45\n"
     ]
    }
   ],
   "source": [
    "# 실수형 변수 만들기\n",
    "c=1.2\n",
    "d= -3.45\n",
    "print(c)\n",
    "print(d)"
   ]
  },
  {
   "cell_type": "markdown",
   "id": "12d64d12",
   "metadata": {},
   "source": [
    "### 논리형 변수"
   ]
  },
  {
   "cell_type": "code",
   "execution_count": 28,
   "id": "190a730f",
   "metadata": {},
   "outputs": [
    {
     "name": "stdout",
     "output_type": "stream",
     "text": [
      "True\n",
      "False\n"
     ]
    }
   ],
   "source": [
    "# True, False에 첫 글자가 대문자인 것에 주의\n",
    "\n",
    "a = True # 참을 의미하는 키워드 True를 a에 할당\n",
    "b = False # 거짓을 의미하는 키워드 False를 b에 할당\n",
    "print(a)\n",
    "print(b)\n"
   ]
  },
  {
   "cell_type": "markdown",
   "id": "f77f5d7d",
   "metadata": {},
   "source": [
    "### 문자열 변수    "
   ]
  },
  {
   "cell_type": "code",
   "execution_count": null,
   "id": "919dd4d9",
   "metadata": {},
   "outputs": [
    {
     "name": "stdout",
     "output_type": "stream",
     "text": [
      "안녕하세요. 파이썬\n"
     ]
    }
   ],
   "source": [
    "# 쌍따옴표나 홑따옴표로 감싼 모든 형태의 내용\n",
    "msg ='안녕하세요. 파이썬'\n",
    "print(msg)"
   ]
  },
  {
   "cell_type": "markdown",
   "id": "5c43b1fb",
   "metadata": {},
   "source": [
    "### 내용이 없는 변수    "
   ]
  },
  {
   "cell_type": "code",
   "execution_count": 29,
   "id": "20379dd8",
   "metadata": {},
   "outputs": [
    {
     "name": "stdout",
     "output_type": "stream",
     "text": [
      "None\n"
     ]
    }
   ],
   "source": [
    "# 메모리 상에 공간만 점유한 상태로 데이터가 저장X\n",
    "# 추후 프로그램이 동작하는 과정에서 값을 저장하기 위해 미리 메모리 공간만 설정해 놓은 상태\n",
    "\n",
    "hello = None\n",
    "print(hello)"
   ]
  },
  {
   "cell_type": "markdown",
   "id": "9f92d232",
   "metadata": {},
   "source": [
    "## #05. 연산자의 활용\n",
    "\n",
    "### 대입 연산자를 활용한 swap처리"
   ]
  },
  {
   "cell_type": "code",
   "execution_count": 30,
   "id": "ad967652",
   "metadata": {},
   "outputs": [
    {
     "name": "stdout",
     "output_type": "stream",
     "text": [
      "1\n",
      "2\n",
      "2\n",
      "1\n"
     ]
    }
   ],
   "source": [
    "# 대입 연산자(=)는 좌변에 우변을 대입\n",
    "# 프로그래밍에서의 '='기호는 \"대입한다\"의미\n",
    "\n",
    "a =1\n",
    "b =2\n",
    "print(a)\n",
    "print(b)\n",
    "\n",
    "a,b = b,a\n",
    "print(a)\n",
    "print(b)\n"
   ]
  },
  {
   "cell_type": "markdown",
   "id": "324d586c",
   "metadata": {},
   "source": [
    "### 산술 연산자 사용하기"
   ]
  },
  {
   "cell_type": "code",
   "execution_count": null,
   "id": "a60519fc",
   "metadata": {},
   "outputs": [],
   "source": [
    "# 연산 결과는 새로운 변수에 할당 하거나 직접 출력 가능\n",
    "a= 3\n"
   ]
  },
  {
   "cell_type": "markdown",
   "id": "81e1cbe7",
   "metadata": {},
   "source": [
    "### 나눗셈과 거듭제곱\n",
    "\n"
   ]
  },
  {
   "cell_type": "code",
   "execution_count": 32,
   "id": "c9c39ecd",
   "metadata": {},
   "outputs": [],
   "source": [
    "# 나눗셈의 몫을 구함"
   ]
  },
  {
   "cell_type": "markdown",
   "id": "0464ad7f",
   "metadata": {},
   "source": [
    "### 비교 연산자\n"
   ]
  },
  {
   "cell_type": "code",
   "execution_count": null,
   "id": "0185ce7e",
   "metadata": {},
   "outputs": [
    {
     "name": "stdout",
     "output_type": "stream",
     "text": [
      "False\n",
      "True\n",
      "True\n",
      "True\n",
      "False\n",
      "False\n"
     ]
    }
   ],
   "source": [
    "# 결과값이 True/False\n",
    "print( 100 == 50 )\n",
    "print( 100 != 50 )\n",
    "print( 100 >= 50 )\n",
    "print( 100 > 50 )\n",
    "print( 100 < 50 )\n",
    "print( 100 <= 50 )\n",
    "\n",
    "# 비교연산도 하나의 수식이므로 결과를 다른 변수에 항당 가능함\n",
    "# result = 100 > 50\n",
    "#print(result)"
   ]
  },
  {
   "cell_type": "markdown",
   "id": "c352df7d",
   "metadata": {},
   "source": [
    "### 비교 연산과 논리 연산의 결합"
   ]
  },
  {
   "cell_type": "code",
   "execution_count": 38,
   "id": "fc5d37db",
   "metadata": {},
   "outputs": [
    {
     "name": "stdout",
     "output_type": "stream",
     "text": [
      "True\n",
      "False\n",
      "True\n"
     ]
    }
   ],
   "source": [
    "#비교연산의 결과값은 bool형식이므로 논리연산이 가능함\n",
    "a = 100 >50\n",
    "b = 20> 10\n",
    "print(a and b)\n",
    "\n",
    "#비교연산 -> 논리 연산 순으로 처리\n",
    "c=100 >= 100 and 50 == 10\n",
    "print(c)\n",
    "\n",
    "print( 100 != 200 and 100 == 100 )"
   ]
  },
  {
   "cell_type": "markdown",
   "id": "706c1686",
   "metadata": {},
   "source": [
    "### 완전 항등 연산자 ' is'"
   ]
  },
  {
   "cell_type": "code",
   "execution_count": null,
   "id": "9e9504b6",
   "metadata": {},
   "outputs": [],
   "source": [
    "# 비교를 위한 변수값 정의\n",
    "x = 100\n",
    "y = 100.0\n",
    "\n",
    "# 단순 비교 연산자는 정수와 실수를 구분 X\n",
    "print( x == y)  #1과 1.0을 같다고 구분 T\n",
    "print( x != y )   #1과 1.0을 다르다고 판별할 경우 F\n",
    "\n",
    "# is 연산자는 비교하는 값의 데이터 타입까지 일치해야만 T\n",
    "print( x is y)   # 정수와 실수가 같다는 의미 F\n",
    "print( x is not y )    #정수와 실수는 데이터 타입이 다르므로 내용이 같더라도 다른 값으로 판별"
   ]
  }
 ],
 "metadata": {
  "kernelspec": {
   "display_name": "Python 3",
   "language": "python",
   "name": "python3"
  },
  "language_info": {
   "codemirror_mode": {
    "name": "ipython",
    "version": 3
   },
   "file_extension": ".py",
   "mimetype": "text/x-python",
   "name": "python",
   "nbconvert_exporter": "python",
   "pygments_lexer": "ipython3",
   "version": "3.13.9"
  }
 },
 "nbformat": 4,
 "nbformat_minor": 5
}
