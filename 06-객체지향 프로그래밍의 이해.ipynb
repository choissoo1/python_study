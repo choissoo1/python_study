{
 "cells": [
  {
   "cell_type": "markdown",
   "id": "89e758d4",
   "metadata": {},
   "source": [
    "# [LAB-06] 객체지향 프로그래밍의 이해"
   ]
  },
  {
   "cell_type": "markdown",
   "id": "14db0b44",
   "metadata": {},
   "source": [
    "## 01. 클래스와 객체"
   ]
  },
  {
   "cell_type": "markdown",
   "id": "91489483",
   "metadata": {},
   "source": [
    "### 멤버변수만 포함하는 클래스"
   ]
  },
  {
   "cell_type": "code",
   "execution_count": 1,
   "id": "2c1eed76",
   "metadata": {},
   "outputs": [
    {
     "name": "stdout",
     "output_type": "stream",
     "text": [
      "speed: 10, hp: 100, attack: 20, defense: 5\n",
      "dg1 객체의 속성 일괄 출력\n",
      "dg1 객체의 속성 일괄 출력\n",
      "speed: 11, hp: 100, attack: 22, defense: 6\n",
      "speed: 11, hp: 100, attack: 22, defense: 6\n",
      "speed: 12, hp: 120, attack: 22, defense: 7\n"
     ]
    }
   ],
   "source": [
    "# 변수들을 그룹화 한 클래스 정의\n",
    "class Dragoon:\n",
    "    speed = None     #속도\n",
    "    hp = None        #체력\n",
    "    attack = None    #공격력\n",
    "    defense = None   #방어력 \n",
    "# 클래스로부터 객체 생성 ---------------------------\n",
    "# 객체 생성\n",
    "dg1 = Dragoon()\n",
    "#객체의 속성 설정\n",
    "dg1.speed = 10\n",
    "dg1.hp = 100\n",
    "dg1.attack = 20\n",
    "dg1.defense = 5\n",
    "# 객체의 속성 일괄 출력\n",
    "tpl = \"speed: {}, hp: {}, attack: {}, defense: {}\"\n",
    "print(tpl. format(dg1.speed, dg1.hp, dg1.attack, dg1.defense))\n",
    "\n",
    "# 객체안에 포함된 값 변경 ----------------------------\n",
    "# 레벨업을 할 경우 모든 능력치가 증가\n",
    "dg1.speed += 1\n",
    "dg1.hp += 10\n",
    "dg1.attack += 2\n",
    "dg1.defense += 1\n",
    "# 공격을 받을 경우 hp가 감소\n",
    "dg1.hp -= 10\n",
    "# 객체의 속성 일괄 출력\n",
    "print(\"{} 객체의 속성 일괄 출력\". format(\"dg1\"))\n",
    "print(\"%s 객체의 속성 일괄 출력\" %'dg1')\n",
    "\n",
    "tpl = \"speed: {}, hp: {}, attack: {}, defense: {}\"\n",
    "print(tpl. format(dg1.speed, dg1.hp, dg1.attack, dg1.defense))\n",
    "\n",
    "# 동일한 속성을 갖는 개체를 추가로 생성할 수 있음  -------------\n",
    "dg2 = Dragoon()\n",
    "dg2.speed = 12\n",
    "dg2.hp = 120\n",
    "dg2.attack = 22\n",
    "dg2.defense = 7\n",
    "\n",
    "tpl = \"speed: {}, hp: {}, attack: {}, defense: {}\"\n",
    "print(tpl. format(dg1.speed, dg1.hp, dg1.attack, dg1.defense))\n",
    "print(tpl. format(dg2.speed, dg2.hp, dg2.attack, dg2.defense))\n"
   ]
  },
  {
   "cell_type": "markdown",
   "id": "4df3e53b",
   "metadata": {},
   "source": [
    "### 메서드만 포함하는 클래스"
   ]
  },
  {
   "cell_type": "code",
   "execution_count": 2,
   "id": "f3c8717d",
   "metadata": {},
   "outputs": [
    {
     "name": "stdout",
     "output_type": "stream",
     "text": [
      "좌표 (10,10)로 이동합니다.\n",
      "광물을 채집합니다,(+10)\n",
      "광물을 채집합니다,(+10)\n",
      "광물을 채집합니다,(+10)\n",
      "가스를 채집합니다.(+5)\n",
      "가스를 채집합니다.(+5)\n",
      "채취된 광물: 30, 채취된 가스: 10\n",
      "채취된 광물: 30, 채취된 가스: 10\n"
     ]
    }
   ],
   "source": [
    "# 클래스 정의 ---------------------------------------\n",
    "class probe:\n",
    "    #이동멧드 -> 이동할 좌표를 전달받아 이동\n",
    "    def move(self, x, y):\n",
    "        print(\"좌표 ({},{})로 이동합니다.\" .format(x,y))\n",
    "    #광물을 채집하는 메서드 -> 채집된 광물을 반환\n",
    "    def mineral(self):\n",
    "        print(\"광물을 채집합니다,(+10)\")\n",
    "        return 10\n",
    "    #가스를 채집하는 메서드 -> 채집된 가스를 반환\n",
    "    def gas(self):\n",
    "        print(\"가스를 채집합니다.(+5)\")\n",
    "        return 5\n",
    "# 객체를 통한 메서드 호출 -------------------------------\n",
    "probe1 = probe()\n",
    "probe1.move(10,10)\n",
    "\n",
    "my_mieral = 0\n",
    "my_mieral += probe1.mineral()\n",
    "my_mieral += probe1.mineral()\n",
    "my_mieral += probe1.mineral()\n",
    "\n",
    "my_gas = 0\n",
    "my_gas += probe1.gas()\n",
    "my_gas += probe1.gas()\n",
    "\n",
    "print(\"채취된 광물: {}, 채취된 가스: {}\" .format(my_mieral, my_gas))\n",
    "print(\"채취된 광물: %d, 채취된 가스: %d\" %(my_mieral, my_gas))"
   ]
  },
  {
   "cell_type": "markdown",
   "id": "80079ec8",
   "metadata": {},
   "source": [
    "## #2. self와 생성자\n"
   ]
  },
  {
   "cell_type": "markdown",
   "id": "bef5b100",
   "metadata": {},
   "source": [
    "### 메서드를 통한 멤버변수의 데이터 설정 및 출력"
   ]
  },
  {
   "cell_type": "code",
   "execution_count": 3,
   "id": "1866cd93",
   "metadata": {},
   "outputs": [
    {
     "name": "stdout",
     "output_type": "stream",
     "text": [
      "상태확인 >>> hp: 100, dps: 20\n",
      "30의 공격을 받아 hp가 70만큼 감소합니다\n",
      "상태확인 >>> hp: 70, dps: 20\n",
      "레벨업을 하면 체력(+10), 공격력(+2) 증가합니다.\n",
      "상태확인 >>> hp: 80, dps: 22\n"
     ]
    }
   ],
   "source": [
    "\n",
    "# 멤버변수의 값을 수정하기 위한 메서드를 갖는 클래스 -----------\n",
    "class Zealot:\n",
    "    hp = None\n",
    "    dps = None\n",
    "    # 객체의 속성을 일괄 출력하는 메서드\n",
    "    def state(self):\n",
    "        print(\"상태확인 >>> hp: {}, dps: {}\" .format(self.hp, self.dps))\n",
    "    #레벨업 --> 모든 속성(멤버변수)들이 증가\n",
    "    def level_up(self):\n",
    "        self.hp += 10\n",
    "        self.dps += 2\n",
    "        print(\"레벨업을 하면 체력(+10), 공격력(+2) 증가합니다.\")\n",
    "    # 공격을 받음 --> 상대의 공격력만큼 hp감소\n",
    "    def attacked(self, enemy_attack):\n",
    "        self.hp -= enemy_attack\n",
    "        print(\"{}의 공격을 받아 hp가 {}만큼 감소합니다\" .format(enemy_attack,self.hp))\n",
    "\n",
    "# 메서드 실행에 따른 멤버 변수의 변화 확인 -----------------------------\n",
    "zealot1 = Zealot()\n",
    "zealot1.hp = 100\n",
    "zealot1.dps = 20\n",
    "\n",
    "zealot1.state()\n",
    "zealot1.attacked(30)\n",
    "zealot1.state()\n",
    "zealot1.level_up()\n",
    "zealot1.state()\n"
   ]
  },
  {
   "cell_type": "markdown",
   "id": "9cb38e51",
   "metadata": {},
   "source": [
    "### 생성자를 갖는 클래스 정의"
   ]
  },
  {
   "cell_type": "code",
   "execution_count": 4,
   "id": "d26c6329",
   "metadata": {},
   "outputs": [
    {
     "name": "stdout",
     "output_type": "stream",
     "text": [
      "[마린1] You wanna piece of me, boy?\n",
      "[마린2] You wanna piece of me, boy?\n",
      "[마린1] hp: 100\n",
      "[마린2] hp: 100\n",
      "[마린1]적의 공격을 받아 hp가 30감소합니다.\n",
      "[마린2]적의 공격을 받아 hp가 20감소합니다.\n",
      "[마린1] hp: 70\n",
      "[마린2] hp: 80\n",
      "[마린1] 레벨업을 하여 체력(+5)이 증가합니다.\n",
      "[마린2] 레벨업을 하여 체력(+5)이 증가합니다.\n",
      "[마린1] hp: 75\n",
      "[마린2] hp: 85\n"
     ]
    }
   ],
   "source": [
    "# 마린 클래스 정의 -----------------------------------------\n",
    "class Marine:\n",
    "    name = None\n",
    "    hp = None\n",
    "    #파라미터를 활용해 객체의 속성을 초기화하는 생성자  \n",
    "    # --> 생성자 파라미터의 값을 멤버변수에 복사\n",
    "    def __init__(self, name, hp):\n",
    "        self.name = name\n",
    "        self.hp = hp\n",
    "        print(\"[{}] You wanna piece of me, boy?\" .format(self.name))\n",
    "    #객체의 속성을 일괄 출력하는 메서드\n",
    "    def state(self):\n",
    "        print(\"[{}] hp: {}\" .format(self.name, self.hp))\n",
    "    # 레벨업 --> 모든 속성(멤버변수)들이 증가\n",
    "    def level_up(self):\n",
    "        self.hp += 5\n",
    "        print(\"[{}] 레벨업을 하여 체력(+5)이 증가합니다.\" .format(self.name))\n",
    "    # 공격을 받음 --> 상대의 공격력만큼 hp가 감소\n",
    "    def attacked(self, enemy_attack):\n",
    "        self.hp -= enemy_attack\n",
    "        print(\"[{}]적의 공격을 받아 hp가 {}감소합니다.\" .format(self.name, enemy_attack))\n",
    "\n",
    "# 정의한 클래스의 객체 사용하기 --------------------------------\n",
    "m1 = Marine(\"마린1\",100)         # 객체 생성과 동시에 생성자 호출\n",
    "m2 = Marine(\"마린2\",100)\n",
    "\n",
    "m1.state()\n",
    "m2.state()\n",
    "\n",
    "m1.attacked(30)\n",
    "m2.attacked(20)\n",
    "\n",
    "m1.state()\n",
    "m2.state()\n",
    "\n",
    "m1.level_up()\n",
    "m2.level_up()\n",
    "\n",
    "m1.state()\n",
    "m2.state()"
   ]
  },
  {
   "cell_type": "markdown",
   "id": "6787d30f",
   "metadata": {},
   "source": [
    "## #3. 정보은닉(캡슐화)"
   ]
  },
  {
   "cell_type": "markdown",
   "id": "37ea06db",
   "metadata": {},
   "source": [
    "### 프로퍼티를 정의한 클래스"
   ]
  },
  {
   "cell_type": "code",
   "execution_count": null,
   "id": "b178fd62",
   "metadata": {},
   "outputs": [
    {
     "name": "stdout",
     "output_type": "stream",
     "text": [
      "[벌처1] Alright! Bring it on!\n",
      "[벌처2] Alright! Bring it on!\n",
      "[벌처1] hp: 100, dps: 1\n",
      "[벌처2] hp: 100, dps: 20\n",
      "[벌처1]레벨업을 하여 체력(+5), 공격력(+1)이 증가합니다.\n",
      "[벌처2]레벨업을 하여 체력(+5), 공격력(+1)이 증가합니다.\n",
      "[벌처1] hp: 70, dps: 1\n",
      "[벌처2] hp: 80, dps: 20\n",
      "[벌처1] hp: 75, dps: 2\n",
      "[벌처2] hp: 85, dps: 21\n",
      "[벌처1] 적1에게 초당 2만큼의 피해를 주는 공격을 가합니다.\n",
      "[벌처2] 적2에게 초당 21만큼의 피해를 주는 공격을 가합니다.\n"
     ]
    }
   ],
   "source": [
    "class Vulture:\n",
    "    __name = None\n",
    "    __hp = None\n",
    "    __dps = None\n",
    "    #getter,setter 프로퍼티 정의 -----------------------------\n",
    "    @property\n",
    "    def name(self):\n",
    "        return self.__name\n",
    "    @name.setter\n",
    "    def name(self, value):\n",
    "        self.__name = value\n",
    "\n",
    "    @property\n",
    "    def hp(self):\n",
    "        return self.__hp\n",
    "    @hp.setter\n",
    "    def hp(self, value):\n",
    "        if value  < 1:\n",
    "            value = 1\n",
    "            \n",
    "        self.__hp = value\n",
    "\n",
    "    @property\n",
    "    def dps(self):\n",
    "        return self.__dps\n",
    "    @dps.setter\n",
    "    def dps(self, value):\n",
    "        if value < 1:\n",
    "            value = 1\n",
    "        \n",
    "        self.__dps = value\n",
    "\n",
    "    # 생성자 정의? -------------------------------------------\n",
    "    # 객체의 특성을 초기화 하기 위한 생성자 정의\n",
    "    def __init__(self, name=None, hp=0, dps=0):\n",
    "        # setter 프로퍼티에게 파라미터를 전달하여 멤버변수 초기화\n",
    "        self.name = name\n",
    "        self.hp = hp\n",
    "        self.dps = dps\n",
    "        print(\"[{}] Alright! Bring it on!\" .format(self.name))\n",
    "    # 객체의 속성을 일괄 출력하는 메서드\n",
    "    def state(self):\n",
    "        print(\"[{}] hp: {}, dps: {}\" .format(self.name, self.hp, self.dps))\n",
    "    # 레벨업 --> 모든 속성(멤버변수)들이 증가\n",
    "    def level_up(self):\n",
    "        self.hp += 5\n",
    "        self.dps += 1    \n",
    "    # 공격을 받음 --> 상대의 공격력만큼 hp가 감소\n",
    "    def attacked(self,enemy_attack):\n",
    "        self.hp -= enemy_attack\n",
    "        print(\"[{}]레벨업을 하여 체력(+5), 공격력(+1)이 증가합니다.\" .format(self.name))\n",
    "    # 지정된 대상을 공격함 --> 상대방에게 dps만큼의 피해\n",
    "    def attack(self,target):\n",
    "        print(\"[{}] {}에게 초당 {}만큼의 피해를 주는 공격을 가합니다.\" .format(self.name, target, self.dps))\n",
    "\n",
    "#-------------------------------------------------------------\n",
    "v1 = Vulture(\"벌처1\", 100)\n",
    "v2 = Vulture(\"벌처2\", 100, 20)\n",
    "\n",
    "v1.state()\n",
    "v2.state()\n",
    "\n",
    "v1.attacked(30)\n",
    "v2.attacked(20)\n",
    "\n",
    "v1.state()\n",
    "v2.state()\n",
    "\n",
    "v1.level_up()\n",
    "v2.level_up()\n",
    "\n",
    "v1.state()\n",
    "v2.state()\n",
    "\n",
    "v1.attack(\"적1\")\n",
    "v2.attack(\"적2\")"
   ]
  },
  {
   "cell_type": "markdown",
   "id": "47f2ace1",
   "metadata": {},
   "source": [
    "## #4. 클래스 상속(1)"
   ]
  },
  {
   "cell_type": "markdown",
   "id": "b91fb5cb",
   "metadata": {},
   "source": [
    "### 상속을 통한 클래스 기능 확장"
   ]
  },
  {
   "cell_type": "code",
   "execution_count": 12,
   "id": "52dd80a8",
   "metadata": {},
   "outputs": [],
   "source": [
    "class Terran:   #클래스 이름은 대무자로 시작하는 것이 관례\n",
    "    name = None\n",
    "    hp = None\n",
    "    def __init__(self,name,hp):\n",
    "        self.name = name\n",
    "        self.hp = hp\n",
    "    def info(self):\n",
    "        return \"[%s] HP: %d\" %(self.name, self.hp)"
   ]
  },
  {
   "cell_type": "code",
   "execution_count": 13,
   "id": "e72453b4",
   "metadata": {},
   "outputs": [
    {
     "name": "stdout",
     "output_type": "stream",
     "text": [
      "[마린1] HP: 45\n",
      "[마린1] 총을 쏘아 100의 데미지를 입혔습니다.\n"
     ]
    }
   ],
   "source": [
    "## 부모 클래스의 기능 확장\n",
    "# marin은 terran을 상속받아 공격 기능을 추가\n",
    "class Marine(Terran):\n",
    "    # 기능의 확장을 위해 추가된 메서드\n",
    "    def shoot(self, attack):\n",
    "        return \"[%s] 총을 쏘아 %d의 데미지를 입혔습니다.\" %(self.name, attack)\n",
    "# 부모 클래스의 생성자를 상속받기 때문에 name과 hp파라미터를 전달할 수 있다.\n",
    "m = Marine('마린1', 45)\n",
    "print(m.info())\n",
    "print(m.shoot(100))"
   ]
  },
  {
   "cell_type": "markdown",
   "id": "6154a577",
   "metadata": {},
   "source": [
    "### super()를 사용한 부모 기능 호출"
   ]
  },
  {
   "cell_type": "code",
   "execution_count": null,
   "id": "01771543",
   "metadata": {},
   "outputs": [
    {
     "name": "stdout",
     "output_type": "stream",
     "text": [
      "[메딕1] HP: 30, MANA: 100\n",
      "[메딕1] 마린1의 체력을 회복시킵니다. (mana: -5)\n"
     ]
    }
   ],
   "source": [
    "class Medic(Terran):\n",
    "    # 부모에게 상속받은 멤버변수 이외에 추가 속성\n",
    "    mana = None\n",
    "    def __init__(self, name, hp, mana):\n",
    "        # 스스로의 생성자에 전달받은 파라미터를 부모 생성자에게 전달하여\n",
    "        # 부모로부터 상속받은 속성(name, hp)를 초기화\n",
    "        super().__init__(name,hp)\n",
    "        # 스스로 추가한 속성을 별도로 초기화\n",
    "        self.mana = mana\n",
    "    # 부모에게 상속받은 기능을 포함하는 추가 기능\n",
    "    def info_ex(self):\n",
    "        info_msg = super().info()\n",
    "        info_msg += \", MANA: %d\" %self.mana\n",
    "        return info_msg\n",
    "    # 부모에게 상속받은 기능 이외에 자신만의 고유 기능 추가\n",
    "    def heel(self, target):\n",
    "        self.mana -= 5\n",
    "        return \"[%s] %s의 체력을 회복시킵니다. (mana: -5)\" %(self.name, target)\n",
    "md = Medic('메딕1', 30, 100)\n",
    "print(md.info_ex())\n",
    "print(md.heel('마린1'))"
   ]
  }
 ],
 "metadata": {
  "kernelspec": {
   "display_name": "Python 3",
   "language": "python",
   "name": "python3"
  },
  "language_info": {
   "codemirror_mode": {
    "name": "ipython",
    "version": 3
   },
   "file_extension": ".py",
   "mimetype": "text/x-python",
   "name": "python",
   "nbconvert_exporter": "python",
   "pygments_lexer": "ipython3",
   "version": "3.13.9"
  }
 },
 "nbformat": 4,
 "nbformat_minor": 5
}
