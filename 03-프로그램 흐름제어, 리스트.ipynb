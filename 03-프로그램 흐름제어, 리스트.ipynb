{
 "cells": [
  {
   "cell_type": "markdown",
   "id": "270439d9",
   "metadata": {},
   "source": [
    "# [ LAB-03 ] 프로그램 흐름제어/리스트"
   ]
  },
  {
   "cell_type": "markdown",
   "id": "df20cb03",
   "metadata": {},
   "source": [
    "## #1. 프로그램 흐름제어\n",
    "\n",
    "### 중첩 조건문"
   ]
  },
  {
   "cell_type": "code",
   "execution_count": null,
   "id": "d67c9267",
   "metadata": {},
   "outputs": [],
   "source": [
    "# 특정 조건을 좀 더 상세하게 판단하기 위해 사용\n",
    "\n",
    "point = int(input(\"점수를 입력하세요: \"))   # 입력예시:85\n",
    "if point> 70:\n",
    "    print (\"패스\")\n",
    "    if point >90:\n",
    "        print(\"A\")\n",
    "    elif point > 80:\n",
    "        print(\"B\")\n",
    "    else:\n",
    "        print(\"C\")\n",
    "else:\n",
    "    print(\"패스하지 못했습니다\")"
   ]
  },
  {
   "cell_type": "markdown",
   "id": "09902dc2",
   "metadata": {},
   "source": [
    "### 반복문에 포함된 조건문"
   ]
  },
  {
   "cell_type": "code",
   "execution_count": null,
   "id": "845e88ce",
   "metadata": {},
   "outputs": [],
   "source": [
    "#짝, 홀수의 합 _ 반복 수행 1회마다 조건을 판별\n",
    "#             _ 주로 반복문에서 설정되는 조건값에 대한 검사를 수행\n",
    "\n",
    "number = int(input(\"숫자를 입력하세요:\"))  # 입력예시:10\n",
    "# 총 합을 구하기 위해서는 반복문 전에 0으로 초기화 된 변수가 필요\n",
    "x = 0\n",
    "y = 0\n",
    "\n",
    "for i in range(1,number+1):    # -> 1~number까지 반복 수행\n",
    "    if i % 2 == 0:             # 2로 나눈 나머지가 0이며 짝수\n",
    "        print(i, \"--> 짝수\")\n",
    "        x += i\n",
    "    else:                      #그렇지 않으면 홀수\n",
    "        print(i,\"--> 홀수\")\n",
    "        y += i\n",
    "print(\"짝수들의 합:\", x)\n",
    "print(\"홀수들의 합:\", y)"
   ]
  },
  {
   "cell_type": "code",
   "execution_count": null,
   "id": "ac782d27",
   "metadata": {},
   "outputs": [],
   "source": [
    "# 자주 사용되는 유형_반복 수행시 마지막 회차 생략\n",
    "\n",
    "for i in range(0,5):\n",
    "    print(i)\n",
    "    # 조건값이 마지막이 아닌 경우만 실행하도록 if문 구성\n",
    "    if i + 1 < 5:     ### i+증가량 < 반복종료값 공식\n",
    "        print(\"----\")"
   ]
  },
  {
   "cell_type": "markdown",
   "id": "179f4a91",
   "metadata": {},
   "source": [
    "### 공배수 구하기"
   ]
  },
  {
   "cell_type": "code",
   "execution_count": null,
   "id": "82b54522",
   "metadata": {},
   "outputs": [],
   "source": [
    "# 1에서 100사이의 수 중에서 3과 5의 공배수 출력\n",
    "# 3으로 나누어 떨어지면서 5로도 떨어지는 조건을 동시에 충족\n",
    "\n",
    "x = 3\n",
    "y = 5\n",
    "for i in range(1,101):\n",
    "    if i % x == 0 and i % y ==0:\n",
    "        print(i)"
   ]
  },
  {
   "cell_type": "markdown",
   "id": "f8cdf8c5",
   "metadata": {},
   "source": [
    "### 중첩 반복문"
   ]
  },
  {
   "cell_type": "code",
   "execution_count": null,
   "id": "b3fa3b78",
   "metadata": {},
   "outputs": [],
   "source": [
    "# 중첩 반복문의 실행 과정 확인 \n",
    "# 바깥의 부모 반복문이 1회차를 수행하는 동안 \n",
    "# 안쪽의 자식 반복문이 매번 처음부터 다시 시작\n",
    "\n",
    "for i in range(0,3):\n",
    "    print(\"i에 대한 반복 수행 시작 : i -->\", i)\n",
    "\n",
    "    for j in range(0,5):\n",
    "        print(\"::: i=\", i, \",j=\",j)\n",
    "    print(\"i에 대한 반복 수행 종료\")   \n",
    "    if i+1 < 3:\n",
    "        print(\"----------\")"
   ]
  },
  {
   "cell_type": "code",
   "execution_count": null,
   "id": "b6d281c0",
   "metadata": {},
   "outputs": [],
   "source": [
    "# 구구단\n",
    "# 부모\n",
    "\n",
    "#i의"
   ]
  },
  {
   "cell_type": "code",
   "execution_count": null,
   "id": "f25b803d",
   "metadata": {},
   "outputs": [],
   "source": [
    "# 별 찍기 문제\n",
    "# 첫째 줄에는 1개, 둘째 줄에는 2개 ~\n",
    "\n",
    "#행을 담당하는 반복문\n",
    "for i in range(0,5):\n",
    "    #매 행마다 출력할 내용을 초기화\n",
    "    star = \"\"\n",
    "    #열을 담당하는 반복문 --> 행이 증가함에 따라 반복횟수 1씩 늘어남\n",
    "    for j in range(0, i+1):\n",
    "        star += \"*\"\n",
    "    print(star)"
   ]
  },
  {
   "cell_type": "code",
   "execution_count": null,
   "id": "44c1f611",
   "metadata": {},
   "outputs": [],
   "source": [
    "# 별 찍기 문제\n",
    "# 첫째 줄에는 5개, 둘째 줄에는 4개 ~\n",
    "\n",
    "for i in range(5, 0, -1):\t\t# 5부터 1까지 1씩 작아지게 5줄\n",
    "\tfor j in range(i):\t\t\t# 별 개수도 i의 범위와 동일\n",
    "\t\tprint('*', end='')\n",
    "\tprint()\n",
    "\n",
    "for i in range(0,5):\n",
    "\tstar = \"\"\n",
    "\tfor j in range(0, 5-i):\n",
    "\t\tstar += \"*\"\n",
    "print(star)\n"
   ]
  },
  {
   "cell_type": "markdown",
   "id": "c4e04b2a",
   "metadata": {},
   "source": [
    "### 반복문의 흐름제어"
   ]
  },
  {
   "cell_type": "code",
   "execution_count": null,
   "id": "992a0226",
   "metadata": {},
   "outputs": [],
   "source": [
    "for i in range(1,11,2):\n",
    "    print(i)"
   ]
  },
  {
   "cell_type": "code",
   "execution_count": null,
   "id": "99532246",
   "metadata": {},
   "outputs": [],
   "source": [
    "# 주사위 던지기\n",
    "# 두 개의 주사위를 던졌을 때, 눈의 합이 6이 되는 모든 경우의 수를\n",
    "# 출력하고 경우의 수는 총 몇 가지인지 출력\n",
    "\n",
    "count = 0\n",
    "for i in range(1,7):\n",
    "    for j in range(1,7):\n",
    "        if i + j == 6:\n",
    "            count += 1\n",
    "            print(i,j)\n",
    "print(\"경우의 수:\", count)"
   ]
  },
  {
   "cell_type": "code",
   "execution_count": null,
   "id": "c07bd406",
   "metadata": {},
   "outputs": [],
   "source": [
    "# 반복의 횟수를 가늠할 수 없을 대 의도적으로 무한루프 설정\n",
    "# continue, break 명령으로 반복문 내에서의 흐름을 제어\n",
    "\n",
    "y = 0\n",
    "while True:\n",
    "    y += 1\n",
    "    if y % 2 == 0:\n",
    "        continue  # 조건식으로 강제 이동\n",
    "    if y > 10:\n",
    "        break      #반복문 강제 종료\n",
    "    print(\"Hello Python:: \", y)"
   ]
  },
  {
   "cell_type": "code",
   "execution_count": null,
   "id": "f2118341",
   "metadata": {},
   "outputs": [],
   "source": [
    "for i in range(0,5):\n",
    "\tstar = \"\"\n",
    "\tfor j in range(0, 5-1):\n",
    "\t\tstar += \"*\"\n",
    "print(star)\n"
   ]
  },
  {
   "cell_type": "markdown",
   "id": "2403fdd6",
   "metadata": {},
   "source": [
    "## #2. 리스트의 이해\n"
   ]
  },
  {
   "cell_type": "code",
   "execution_count": null,
   "id": "5b89053d",
   "metadata": {},
   "outputs": [],
   "source": [
    "# 리스트의 덧셈 ==> 연결된 새로운 리스트 생성(단순 병합)\n",
    "a = [1,2,3]\n",
    "b = [4,5]\n",
    "c = a+b\n",
    "print(c)\n"
   ]
  },
  {
   "cell_type": "code",
   "execution_count": null,
   "id": "dc2dba97",
   "metadata": {},
   "outputs": [],
   "source": [
    "#리스트와 정수의 곱셈 ==> 곱해진 만큼 원소가 반복되는 리스트 생성(동일 내용 반복)\n",
    "d = [10,20,30]\n",
    "e = d*3\n",
    "print(e)"
   ]
  },
  {
   "cell_type": "markdown",
   "id": "42676787",
   "metadata": {},
   "source": [
    "### 2차원 리스트의 행에 접근"
   ]
  },
  {
   "cell_type": "code",
   "execution_count": null,
   "id": "7baa2901",
   "metadata": {},
   "outputs": [],
   "source": [
    "# 실습을 위한 리스트 정의\n",
    "학생 =  [[\"민식\", 64, 172.3], [\"호영\", 100, 175.8], [\"철민\", 89, 168.7 ]]\n",
    "\n",
    "# 1번째 행에 대한 접근 \n",
    "print(학생[1])\n",
    "\n",
    "#2차원 리스트의 원소는 행 -> 열 순서로 접근\n",
    "print(\"이름:\", 학생[0][0], \"몸무게:\", 학생[0][1], \"키:\", 학생[0][2])\n",
    "print(\"이름:\", 학생[1][0], \"몸무게:\", 학생[1][1], \"키:\", 학생[1][2])\n",
    "print(\"이름:\", 학생[2][0], \"몸무게:\", 학생[2][1], \"키:\", 학생[2][2])"
   ]
  },
  {
   "cell_type": "markdown",
   "id": "b8660319",
   "metadata": {},
   "source": [
    "### 가변 리스트 사용하기\n"
   ]
  },
  {
   "cell_type": "code",
   "execution_count": null,
   "id": "5be295d3",
   "metadata": {},
   "outputs": [],
   "source": [
    "# 각 행마다 열의 수가 다른 리스트 형태로 표현한 상품 목록"
   ]
  },
  {
   "cell_type": "markdown",
   "id": "5e0d4826",
   "metadata": {},
   "source": [
    "## #3. 인덱싱과 슬라이싱"
   ]
  },
  {
   "cell_type": "markdown",
   "id": "74ab3293",
   "metadata": {},
   "source": [
    "### 리스트의 인덱싱"
   ]
  },
  {
   "cell_type": "code",
   "execution_count": null,
   "id": "021edf65",
   "metadata": {},
   "outputs": [],
   "source": [
    "# 정방향 혹인 역방향 인덱스를 사용한 리스트 원소 출력\n",
    "\n",
    "mylist = [10,20,30]\n",
    "print(mylist[1])     # 1번째 원소에 접근 -> 0부터 카운트\n",
    "print(mylist[-1])    #-1번재 원소에 접근  -> -1카운트\n",
    "\n",
    "# 0번째 리스트의 원소를 다른 변수에 복사\n",
    "first = mylist[0]\n",
    "print(first)\n",
    "\n",
    "# 1번재 원소의 값을 다른 값으로 변경\n",
    "mylist[1] = 200\n",
    "print(mylist)"
   ]
  },
  {
   "cell_type": "markdown",
   "id": "71a97adb",
   "metadata": {},
   "source": [
    "### 리스트 슬라이싱"
   ]
  },
  {
   "cell_type": "code",
   "execution_count": null,
   "id": "57f328c6",
   "metadata": {},
   "outputs": [],
   "source": [
    "#리스트의 구간 설정 방법\n",
    "mylist = [60,70,80,90,100]\n",
    "\n",
    "#list의 1번째부터 3번째 전까지 -> 3번째 원소 포함안됨\n",
    "print(mylist[1:3])\n",
    "\n",
    "#list에서 1번째부터 뒤에서부터 2번째 다음까지\n",
    "print(mylist[1:-2])"
   ]
  },
  {
   "cell_type": "markdown",
   "id": "99b00149",
   "metadata": {},
   "source": [
    "## #4. 리스트의 원소 복사"
   ]
  },
  {
   "cell_type": "markdown",
   "id": "bd1c69fc",
   "metadata": {},
   "source": [
    "### 연속형 자료형의 고전적인 깊은 복사 방법"
   ]
  },
  {
   "cell_type": "code",
   "execution_count": null,
   "id": "93f0a2da",
   "metadata": {},
   "outputs": [],
   "source": [
    "# 리스트 복사(고전적인 방법)\n",
    "# -> 같은 길이의 리스트를 만들고 각 원소를 일일이 복사함\n",
    "bar = [1,2,3]\n",
    "cp1 = [1,2,3]\n",
    "cp1[0] = bar[0]\n",
    "cp1[1] = bar[1]\n",
    "cp1[2] = bar[2]\n",
    "\n",
    "#-> 복사본을 변경하더라도 원본에 변화 없음\n",
    "cp1[2] = 1000\n",
    "print(bar)\n",
    "print(cp1)"
   ]
  },
  {
   "cell_type": "code",
   "execution_count": null,
   "id": "cf9dbac5",
   "metadata": {},
   "outputs": [],
   "source": [
    "## 슬라이싱을 활용한 깊은 복사\n",
    "\n",
    "# 슬라이싱으로 리스트 전체 혹은 일부를 다른 변수에 복사할 경우\n",
    "# 원본에 영향을 주지 않고 복사본을 변경 가능\n",
    "\n",
    "#슬라이싱을 활용한 방법\n",
    "hello = [100,200,300]\n",
    "cp2 =hello[:]\n",
    "\n",
    "#->복사본을 변경하더라도 영향 없음\n",
    "cp2[1] = 12345\n",
    "print(hello)\n",
    "print(cp2)"
   ]
  },
  {
   "cell_type": "code",
   "execution_count": null,
   "id": "bd536086",
   "metadata": {},
   "outputs": [],
   "source": [
    "## 리스트에 포함된 함수를 사용한 깊은 복사\n",
    "\n",
    "# 리스트 객체의 함수를 사용하는 방법\n",
    "world = [\"hello\", \"python\", \"world\"]\n",
    "cp3 = world.copy()\n",
    "\n",
    "# -> 복사본을 변경하더라도 원본 영향X\n",
    "cp3[0] = \"nice\"\n",
    "print(world)\n",
    "print(cp3)"
   ]
  },
  {
   "cell_type": "code",
   "execution_count": null,
   "id": "67b1c3db",
   "metadata": {},
   "outputs": [],
   "source": []
  },
  {
   "cell_type": "code",
   "execution_count": null,
   "id": "2a3391df",
   "metadata": {},
   "outputs": [],
   "source": []
  },
  {
   "cell_type": "markdown",
   "id": "3d4cf219",
   "metadata": {},
   "source": [
    "### 리스트, 튜플의 구조분해"
   ]
  },
  {
   "cell_type": "code",
   "execution_count": null,
   "id": "eb121854",
   "metadata": {},
   "outputs": [],
   "source": [
    "# 리스트의 원소가 변수에 1:1로 복사\n",
    "\n",
    "#리스트의 구조분해\n",
    "z,b =[\"python\",\"bigdata\"]\n",
    "print(a)\n",
    "print(b)\n",
    "\n",
    "#튜플의 구조분해\n",
    "a,b = [\"python\",\"bigdata\"]\n",
    "print(a)\n",
    "print(b)"
   ]
  },
  {
   "cell_type": "markdown",
   "id": "219d5843",
   "metadata": {},
   "source": [
    "### 함수 리턴 값의 구조분해"
   ]
  },
  {
   "cell_type": "code",
   "execution_count": null,
   "id": "682a849a",
   "metadata": {},
   "outputs": [],
   "source": [
    "# 함수가 두 개 이상의 결과를 리턴해야 하는 경우 \n",
    "# 리스트로 묶어서 리턴_ 리스트를 리턴받는 경우 구조분해가 가능\n",
    "\n",
    "# 두 수의 나눗셈 결과를 몫과 나머지로 반환하는 함수\n",
    "def divmod(a, b):\n",
    "    # 몫과 나머지를 리스트로 묶어서 반환한다.\n",
    "    return [a // b, a % b]\n",
    "\n",
    "# 함수 호출 --> 리턴 결과는 리스트이다.\n",
    "result = divmod(7, 3)\n",
    "print(result)\n",
    "\n",
    "# 리턴 결과를 구조분해로 받기\n",
    "x, y = divmod(7, 3)\n",
    "print(\"몫:\", x, \"나머지:\", y)"
   ]
  },
  {
   "cell_type": "code",
   "execution_count": null,
   "id": "2f77d123",
   "metadata": {},
   "outputs": [],
   "source": []
  },
  {
   "cell_type": "markdown",
   "id": "448f568d",
   "metadata": {},
   "source": [
    "### 리스트 원소의 합계, 평균 구하기\n"
   ]
  },
  {
   "cell_type": "code",
   "execution_count": null,
   "id": "b350c0bf",
   "metadata": {},
   "outputs": [],
   "source": [
    "# 리스트 모든 원소를 탐색하여 합계 구하기\n",
    "\n",
    "성적표 = [92,88,76,90,82]\n"
   ]
  },
  {
   "cell_type": "markdown",
   "id": "3ec28a86",
   "metadata": {},
   "source": [
    "## #2. 리스트의 탐색"
   ]
  },
  {
   "cell_type": "markdown",
   "id": "47065084",
   "metadata": {},
   "source": [
    "### 리스트(튜플)자체를 조건식으로 지정\n"
   ]
  },
  {
   "cell_type": "code",
   "execution_count": null,
   "id": "78a90013",
   "metadata": {},
   "outputs": [],
   "source": [
    "# 원소가 포함되지 않은 리스트나 튜플을 조건식으로 \n",
    "# 지정할 경우 F로 판정\n",
    "\n",
    "mylist = []\n",
    "if mylist:\n",
    "    print(\"원소가 포함됨\")\n",
    "else:\n",
    "    print(\"원소가 포함되지 않음\")"
   ]
  },
  {
   "cell_type": "markdown",
   "id": "a492e216",
   "metadata": {},
   "source": [
    "### 리스트에 포함되어 있는지 확인\n"
   ]
  },
  {
   "cell_type": "code",
   "execution_count": null,
   "id": "f3c68dc9",
   "metadata": {},
   "outputs": [],
   "source": [
    "# in 연산자와 not in 연산자 사용하기\n",
    "# 변수 in 리스트 --> 포함되어 있는 경우 T\n",
    "# 변수 not in 리스트 --> 포함되어 있지 않은 경우 F\n",
    "\n",
    "mylist = [5,3,7,1,9]\n",
    "target = 7\n",
    "\n",
    "#taget이 mylist에 포함되어 있는지 확인\n",
    "find = taget in mylist\n",
    "print(find)\n",
    "\n",
    "# target이 mylist에 포함되어 있지 않는지 확인\n",
    "not_find = target not in mylist\n",
    "print(not_find)"
   ]
  },
  {
   "cell_type": "code",
   "execution_count": null,
   "id": "23bf2d51",
   "metadata": {},
   "outputs": [],
   "source": [
    "# 조건문에서 in연산자를 사용하여 \n",
    "# 새로운 아이디가 기본회원 목록과 중복되는지 확인\n",
    "\n",
    "user_id_list = [\"mike\", \"tom\", \"jane\"]\n",
    "\n",
    "# 사용자로부터 입력받은 아이디 : 입력예시 = tom\n",
    "user_id = input(\"아이디를 입력하세요: \")\n",
    "\n",
    "# 입력받은 아이디가 이미 사용 중인지 확인\n",
    "if user_id in user_id_list:\n",
    "    print(\"죄송합니다. 해당 아이디는 사용 중입니다.\")\n",
    "else:\n",
    "    print(\"사용 가능한 아이디입니다.\")"
   ]
  },
  {
   "cell_type": "code",
   "execution_count": null,
   "id": "5e58d701",
   "metadata": {},
   "outputs": [],
   "source": [
    "# 조건문에서 not in연산자를 사용하여 \n",
    "# 새로운 아이디가 기본회원 목록과 중복되는지 확인\n",
    "\n",
    "user_id_list = [\"mike\", \"tom\", \"jane\"]\n",
    "user_id = input(\"아이디를 입력하세요: \")\n",
    "if user_id  not in user_id_list:\n",
    "    print(\"죄송합니다. 해당 아이디는 사용 중입니다.\")\n",
    "else:\n",
    "    print(\"사용 가능한 아이디입니다.\")\n",
    "    "
   ]
  },
  {
   "cell_type": "markdown",
   "id": "32d2d8dd",
   "metadata": {},
   "source": [
    "### 리스트의 길이(=원소 수)구하기"
   ]
  },
  {
   "cell_type": "code",
   "execution_count": null,
   "id": "dd18cc7e",
   "metadata": {},
   "outputs": [],
   "source": [
    "# 파이썬 내장함수 len은 데이터의 길이를 반환\n",
    "mylist=\t[10, 20, 30,\t40,\t50]\n",
    "mylen=\tlen(mylist)\n",
    "print(mylen)\n",
    "# 튜플의 경우도 동일\n",
    "mytuple=(10,20,\t30,\t40,\t50)\n",
    "mylen=len(mytuple)\n",
    "print(mylen)"
   ]
  },
  {
   "cell_type": "markdown",
   "id": "42d8382f",
   "metadata": {},
   "source": [
    "### While문을 사용한 리스트의 원소 탐색"
   ]
  },
  {
   "cell_type": "code",
   "execution_count": null,
   "id": "9298adb1",
   "metadata": {},
   "outputs": [],
   "source": [
    "mylist = [10, 20, 30, 40, 50]   # 실습을 위한 리스트 준비\n",
    "size = len(mylist)               # 리스트의 전체 원소 수\n",
    "i = 0                            # 0부터 카운트할 리스트의 인덱스\n",
    "\n",
    "# 인덱스가 전체 원소 수보다 작은 동안 반복\n",
    "while i < size:                  # 반복 범위: i = 0 ~ 4, +1\n",
    "    print(mylist[i])\n",
    "    i += 1                       # 다음번 원소 탐색을 위해 인덱스 1 증가"
   ]
  },
  {
   "cell_type": "code",
   "execution_count": null,
   "id": "549ac8f9",
   "metadata": {},
   "outputs": [],
   "source": [
    "# 리스트의 모든 원소를 탐색하여 합계 \n",
    "\n",
    "성적표 = [92, 88, 76, 90, 82]   # 실습을 위한 리스트 준비\n",
    "과목수 = len(성적표)             # 리스트의 전체 원소 수\n",
    "i = 0                            # 0부터 카운트할 리스트의 인덱스\n",
    "합계점수 = 0                     # 합산을 위한 변수를 0으로 초기화\n",
    "\n",
    "# 인덱스가 과목수보다 작은 동안 반복\n",
    "while i < 과목수:                # 반복 범위: i = 0 ~ 4, +1\n",
    "    합계점수 += 성적표[i]\n",
    "    i += 1                       # 다음번 원소 탐색을 위해 인덱스 1 증가\n",
    "\n",
    "평균점수 = 합계점수 / 과목수\n",
    "\n",
    "print(\"총점:\", 합계점수, \"/ 평균:\", 평균점수)"
   ]
  }
 ],
 "metadata": {
  "kernelspec": {
   "display_name": "Python 3",
   "language": "python",
   "name": "python3"
  },
  "language_info": {
   "codemirror_mode": {
    "name": "ipython",
    "version": 3
   },
   "file_extension": ".py",
   "mimetype": "text/x-python",
   "name": "python",
   "nbconvert_exporter": "python",
   "pygments_lexer": "ipython3",
   "version": "3.13.9"
  }
 },
 "nbformat": 4,
 "nbformat_minor": 5
}
